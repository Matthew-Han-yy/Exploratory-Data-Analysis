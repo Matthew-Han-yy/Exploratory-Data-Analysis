{
 "cells": [
  {
   "cell_type": "markdown",
   "metadata": {},
   "source": [
    "<img src=\"http://imgur.com/1ZcRyrc.png\" style=\"float: left; margin: 15px; height: 80px\">\n",
    "\n",
    "# Project 2\n",
    "\n",
    "### Exploratory Data Analysis (EDA)\n",
    "\n",
    "---\n",
    "\n",
    "Your hometown mayor just created a new data analysis team to give policy advice, and the administration recruited _you_ via LinkedIn to join it. Unfortunately, due to budget constraints, for now the \"team\" is just you...\n",
    "\n",
    "The mayor wants to start a new initiative to move the needle on one of two separate issues: high school education outcomes, or drug abuse in the community.\n",
    "\n",
    "Also unfortunately, that is the entirety of what you've been told. And the mayor just went on a lobbyist-funded fact-finding trip in the Bahamas. In the meantime, you got your hands on two national datasets: one on SAT scores by state, and one on drug use by age. Start exploring these to look for useful patterns and possible hypotheses!\n",
    "\n",
    "---\n",
    "\n",
    "This project is focused on exploratory data analysis, aka \"EDA\". EDA is an essential part of the data science analysis pipeline. Failure to perform EDA before modeling is almost guaranteed to lead to bad models and faulty conclusions. What you do in this project are good practices for all projects going forward, especially those after this bootcamp!\n",
    "\n",
    "This lab includes a variety of plotting problems. Much of the plotting code will be left up to you to find either in the lecture notes, or if not there, online. There are massive amounts of code snippets either in documentation or sites like [Stack Overflow](https://stackoverflow.com/search?q=%5Bpython%5D+seaborn) that have almost certainly done what you are trying to do.\n",
    "\n",
    "**Get used to googling for code!** You will use it every single day as a data scientist, especially for visualization and plotting.\n",
    "\n",
    "#### Package imports"
   ]
  },
  {
   "cell_type": "code",
   "execution_count": 1,
   "metadata": {},
   "outputs": [],
   "source": [
    "import numpy as np\n",
    "import scipy.stats as stats\n",
    "import csv\n",
    "import pandas as pd\n",
    "import seaborn as sns\n",
    "import matplotlib.pyplot as plt\n",
    "from pprint import pprint\n",
    "\n",
    "# this line tells jupyter notebook to put the plots in the notebook rather than saving them to file.\n",
    "%matplotlib inline\n",
    "\n",
    "# this line makes plots prettier on mac retina screens. If you don't have one it shouldn't do anything.\n",
    "%config InlineBackend.figure_format = 'retina'"
   ]
  },
  {
   "cell_type": "markdown",
   "metadata": {},
   "source": [
    "<img src=\"http://imgur.com/l5NasQj.png\" style=\"float: left; margin: 25px 15px 0px 0px; height: 25px\">\n",
    "\n",
    "## 1. Load the `sat_scores.csv` dataset and describe it\n",
    "\n",
    "---\n",
    "\n",
    "You should replace the placeholder path to the `sat_scores.csv` dataset below with your specific path to the file.\n",
    "\n",
    "### 1.1 Load the file with the `csv` module and put it in a Python dictionary\n",
    "\n",
    "The dictionary format for data will be the column names as key, and the data under each column as the values.\n",
    "\n",
    "Toy example:\n",
    "```python\n",
    "data = {\n",
    "    'column1':[0,1,2,3],\n",
    "    'column2':['a','b','c','d']\n",
    "    }\n",
    "```"
   ]
  },
  {
   "cell_type": "code",
   "execution_count": 2,
   "metadata": {},
   "outputs": [],
   "source": [
    "pathtofile = './sat_scores.csv'\n",
    "\n",
    "with open(pathtofile, 'r') as f:\n",
    "    readCSV = [line for line in csv.reader(f)]\n",
    "f.close()\n"
   ]
  },
  {
   "cell_type": "code",
   "execution_count": 3,
   "metadata": {},
   "outputs": [
    {
     "data": {
      "text/plain": [
       "[['State', 'Rate', 'Verbal', 'Math'],\n",
       " ['CT', '82', '509', '510'],\n",
       " ['NJ', '81', '499', '513'],\n",
       " ['MA', '79', '511', '515'],\n",
       " ['NY', '77', '495', '505']]"
      ]
     },
     "execution_count": 3,
     "metadata": {},
     "output_type": "execute_result"
    }
   ],
   "source": [
    "readCSV[:5]"
   ]
  },
  {
   "cell_type": "markdown",
   "metadata": {},
   "source": [
    "### 1.2 Make a pandas DataFrame object with the SAT dictionary, and another with the pandas `.read_csv()` function\n",
    "\n",
    "Compare the DataFrames using the `.dtypes` attribute in the DataFrame objects. What is the difference between loading from file and inputting this dictionary (if any)?"
   ]
  },
  {
   "cell_type": "code",
   "execution_count": 4,
   "metadata": {},
   "outputs": [
    {
     "name": "stdout",
     "output_type": "stream",
     "text": [
      "{'Math': ['510',\n",
      "          '513',\n",
      "          '515',\n",
      "          '505',\n",
      "          '516',\n",
      "          '499',\n",
      "          '499',\n",
      "          '506',\n",
      "          '500',\n",
      "          '501',\n",
      "          '499',\n",
      "          '510',\n",
      "          '499',\n",
      "          '489',\n",
      "          '501',\n",
      "          '488',\n",
      "          '474',\n",
      "          '526',\n",
      "          '499',\n",
      "          '527',\n",
      "          '499',\n",
      "          '515',\n",
      "          '510',\n",
      "          '517',\n",
      "          '525',\n",
      "          '515',\n",
      "          '542',\n",
      "          '439',\n",
      "          '539',\n",
      "          '512',\n",
      "          '542',\n",
      "          '553',\n",
      "          '542',\n",
      "          '589',\n",
      "          '550',\n",
      "          '545',\n",
      "          '572',\n",
      "          '589',\n",
      "          '580',\n",
      "          '554',\n",
      "          '568',\n",
      "          '561',\n",
      "          '577',\n",
      "          '562',\n",
      "          '596',\n",
      "          '550',\n",
      "          '570',\n",
      "          '603',\n",
      "          '582',\n",
      "          '599',\n",
      "          '551',\n",
      "          '514'],\n",
      " 'Rate': ['82',\n",
      "          '81',\n",
      "          '79',\n",
      "          '77',\n",
      "          '72',\n",
      "          '71',\n",
      "          '71',\n",
      "          '69',\n",
      "          '69',\n",
      "          '68',\n",
      "          '67',\n",
      "          '65',\n",
      "          '65',\n",
      "          '63',\n",
      "          '60',\n",
      "          '57',\n",
      "          '56',\n",
      "          '55',\n",
      "          '54',\n",
      "          '53',\n",
      "          '53',\n",
      "          '52',\n",
      "          '51',\n",
      "          '51',\n",
      "          '34',\n",
      "          '33',\n",
      "          '31',\n",
      "          '26',\n",
      "          '23',\n",
      "          '18',\n",
      "          '17',\n",
      "          '13',\n",
      "          '13',\n",
      "          '12',\n",
      "          '12',\n",
      "          '11',\n",
      "          '11',\n",
      "          '9',\n",
      "          '9',\n",
      "          '9',\n",
      "          '8',\n",
      "          '8',\n",
      "          '8',\n",
      "          '7',\n",
      "          '6',\n",
      "          '6',\n",
      "          '5',\n",
      "          '5',\n",
      "          '4',\n",
      "          '4',\n",
      "          '4',\n",
      "          '45'],\n",
      " 'State': ['CT',\n",
      "           'NJ',\n",
      "           'MA',\n",
      "           'NY',\n",
      "           'NH',\n",
      "           'RI',\n",
      "           'PA',\n",
      "           'VT',\n",
      "           'ME',\n",
      "           'VA',\n",
      "           'DE',\n",
      "           'MD',\n",
      "           'NC',\n",
      "           'GA',\n",
      "           'IN',\n",
      "           'SC',\n",
      "           'DC',\n",
      "           'OR',\n",
      "           'FL',\n",
      "           'WA',\n",
      "           'TX',\n",
      "           'HI',\n",
      "           'AK',\n",
      "           'CA',\n",
      "           'AZ',\n",
      "           'NV',\n",
      "           'CO',\n",
      "           'OH',\n",
      "           'MT',\n",
      "           'WV',\n",
      "           'ID',\n",
      "           'TN',\n",
      "           'NM',\n",
      "           'IL',\n",
      "           'KY',\n",
      "           'WY',\n",
      "           'MI',\n",
      "           'MN',\n",
      "           'KS',\n",
      "           'AL',\n",
      "           'NE',\n",
      "           'OK',\n",
      "           'MO',\n",
      "           'LA',\n",
      "           'WI',\n",
      "           'AR',\n",
      "           'UT',\n",
      "           'IA',\n",
      "           'SD',\n",
      "           'ND',\n",
      "           'MS',\n",
      "           'All'],\n",
      " 'Verbal': ['509',\n",
      "            '499',\n",
      "            '511',\n",
      "            '495',\n",
      "            '520',\n",
      "            '501',\n",
      "            '500',\n",
      "            '511',\n",
      "            '506',\n",
      "            '510',\n",
      "            '501',\n",
      "            '508',\n",
      "            '493',\n",
      "            '491',\n",
      "            '499',\n",
      "            '486',\n",
      "            '482',\n",
      "            '526',\n",
      "            '498',\n",
      "            '527',\n",
      "            '493',\n",
      "            '485',\n",
      "            '514',\n",
      "            '498',\n",
      "            '523',\n",
      "            '509',\n",
      "            '539',\n",
      "            '534',\n",
      "            '539',\n",
      "            '527',\n",
      "            '543',\n",
      "            '562',\n",
      "            '551',\n",
      "            '576',\n",
      "            '550',\n",
      "            '547',\n",
      "            '561',\n",
      "            '580',\n",
      "            '577',\n",
      "            '559',\n",
      "            '562',\n",
      "            '567',\n",
      "            '577',\n",
      "            '564',\n",
      "            '584',\n",
      "            '562',\n",
      "            '575',\n",
      "            '593',\n",
      "            '577',\n",
      "            '592',\n",
      "            '566',\n",
      "            '506']}\n"
     ]
    }
   ],
   "source": [
    "#making dataframe with dictionary\n",
    "#split into list of keys and list of values\n",
    "header = readCSV[0]\n",
    "body = readCSV[1:]\n",
    "\n",
    "#group the same values together\n",
    "transposed = zip(*body)\n",
    "\n",
    "# converting list of tuples into list of lists.\n",
    "values = []\n",
    "for t in transposed:\n",
    "    values.append(list(t))\n",
    "    \n",
    "data = dict(zip(header, values))\n",
    "pprint(data)"
   ]
  },
  {
   "cell_type": "code",
   "execution_count": 5,
   "metadata": {},
   "outputs": [
    {
     "data": {
      "text/html": [
       "<div>\n",
       "<style scoped>\n",
       "    .dataframe tbody tr th:only-of-type {\n",
       "        vertical-align: middle;\n",
       "    }\n",
       "\n",
       "    .dataframe tbody tr th {\n",
       "        vertical-align: top;\n",
       "    }\n",
       "\n",
       "    .dataframe thead th {\n",
       "        text-align: right;\n",
       "    }\n",
       "</style>\n",
       "<table border=\"1\" class=\"dataframe\">\n",
       "  <thead>\n",
       "    <tr style=\"text-align: right;\">\n",
       "      <th></th>\n",
       "      <th>Math</th>\n",
       "      <th>Rate</th>\n",
       "      <th>State</th>\n",
       "      <th>Verbal</th>\n",
       "    </tr>\n",
       "  </thead>\n",
       "  <tbody>\n",
       "    <tr>\n",
       "      <th>0</th>\n",
       "      <td>510</td>\n",
       "      <td>82</td>\n",
       "      <td>CT</td>\n",
       "      <td>509</td>\n",
       "    </tr>\n",
       "    <tr>\n",
       "      <th>1</th>\n",
       "      <td>513</td>\n",
       "      <td>81</td>\n",
       "      <td>NJ</td>\n",
       "      <td>499</td>\n",
       "    </tr>\n",
       "    <tr>\n",
       "      <th>2</th>\n",
       "      <td>515</td>\n",
       "      <td>79</td>\n",
       "      <td>MA</td>\n",
       "      <td>511</td>\n",
       "    </tr>\n",
       "    <tr>\n",
       "      <th>3</th>\n",
       "      <td>505</td>\n",
       "      <td>77</td>\n",
       "      <td>NY</td>\n",
       "      <td>495</td>\n",
       "    </tr>\n",
       "    <tr>\n",
       "      <th>4</th>\n",
       "      <td>516</td>\n",
       "      <td>72</td>\n",
       "      <td>NH</td>\n",
       "      <td>520</td>\n",
       "    </tr>\n",
       "  </tbody>\n",
       "</table>\n",
       "</div>"
      ],
      "text/plain": [
       "  Math Rate State Verbal\n",
       "0  510   82    CT    509\n",
       "1  513   81    NJ    499\n",
       "2  515   79    MA    511\n",
       "3  505   77    NY    495\n",
       "4  516   72    NH    520"
      ]
     },
     "execution_count": 5,
     "metadata": {},
     "output_type": "execute_result"
    }
   ],
   "source": [
    "dict_to_df = pd.DataFrame.from_dict(data)\n",
    "dict_to_df.head()"
   ]
  },
  {
   "cell_type": "code",
   "execution_count": 6,
   "metadata": {},
   "outputs": [
    {
     "data": {
      "text/html": [
       "<div>\n",
       "<style scoped>\n",
       "    .dataframe tbody tr th:only-of-type {\n",
       "        vertical-align: middle;\n",
       "    }\n",
       "\n",
       "    .dataframe tbody tr th {\n",
       "        vertical-align: top;\n",
       "    }\n",
       "\n",
       "    .dataframe thead th {\n",
       "        text-align: right;\n",
       "    }\n",
       "</style>\n",
       "<table border=\"1\" class=\"dataframe\">\n",
       "  <thead>\n",
       "    <tr style=\"text-align: right;\">\n",
       "      <th></th>\n",
       "      <th>State</th>\n",
       "      <th>Rate</th>\n",
       "      <th>Verbal</th>\n",
       "      <th>Math</th>\n",
       "    </tr>\n",
       "  </thead>\n",
       "  <tbody>\n",
       "    <tr>\n",
       "      <th>0</th>\n",
       "      <td>CT</td>\n",
       "      <td>82</td>\n",
       "      <td>509</td>\n",
       "      <td>510</td>\n",
       "    </tr>\n",
       "    <tr>\n",
       "      <th>1</th>\n",
       "      <td>NJ</td>\n",
       "      <td>81</td>\n",
       "      <td>499</td>\n",
       "      <td>513</td>\n",
       "    </tr>\n",
       "    <tr>\n",
       "      <th>2</th>\n",
       "      <td>MA</td>\n",
       "      <td>79</td>\n",
       "      <td>511</td>\n",
       "      <td>515</td>\n",
       "    </tr>\n",
       "    <tr>\n",
       "      <th>3</th>\n",
       "      <td>NY</td>\n",
       "      <td>77</td>\n",
       "      <td>495</td>\n",
       "      <td>505</td>\n",
       "    </tr>\n",
       "    <tr>\n",
       "      <th>4</th>\n",
       "      <td>NH</td>\n",
       "      <td>72</td>\n",
       "      <td>520</td>\n",
       "      <td>516</td>\n",
       "    </tr>\n",
       "    <tr>\n",
       "      <th>5</th>\n",
       "      <td>RI</td>\n",
       "      <td>71</td>\n",
       "      <td>501</td>\n",
       "      <td>499</td>\n",
       "    </tr>\n",
       "    <tr>\n",
       "      <th>6</th>\n",
       "      <td>PA</td>\n",
       "      <td>71</td>\n",
       "      <td>500</td>\n",
       "      <td>499</td>\n",
       "    </tr>\n",
       "    <tr>\n",
       "      <th>7</th>\n",
       "      <td>VT</td>\n",
       "      <td>69</td>\n",
       "      <td>511</td>\n",
       "      <td>506</td>\n",
       "    </tr>\n",
       "    <tr>\n",
       "      <th>8</th>\n",
       "      <td>ME</td>\n",
       "      <td>69</td>\n",
       "      <td>506</td>\n",
       "      <td>500</td>\n",
       "    </tr>\n",
       "    <tr>\n",
       "      <th>9</th>\n",
       "      <td>VA</td>\n",
       "      <td>68</td>\n",
       "      <td>510</td>\n",
       "      <td>501</td>\n",
       "    </tr>\n",
       "    <tr>\n",
       "      <th>10</th>\n",
       "      <td>DE</td>\n",
       "      <td>67</td>\n",
       "      <td>501</td>\n",
       "      <td>499</td>\n",
       "    </tr>\n",
       "    <tr>\n",
       "      <th>11</th>\n",
       "      <td>MD</td>\n",
       "      <td>65</td>\n",
       "      <td>508</td>\n",
       "      <td>510</td>\n",
       "    </tr>\n",
       "    <tr>\n",
       "      <th>12</th>\n",
       "      <td>NC</td>\n",
       "      <td>65</td>\n",
       "      <td>493</td>\n",
       "      <td>499</td>\n",
       "    </tr>\n",
       "    <tr>\n",
       "      <th>13</th>\n",
       "      <td>GA</td>\n",
       "      <td>63</td>\n",
       "      <td>491</td>\n",
       "      <td>489</td>\n",
       "    </tr>\n",
       "    <tr>\n",
       "      <th>14</th>\n",
       "      <td>IN</td>\n",
       "      <td>60</td>\n",
       "      <td>499</td>\n",
       "      <td>501</td>\n",
       "    </tr>\n",
       "    <tr>\n",
       "      <th>15</th>\n",
       "      <td>SC</td>\n",
       "      <td>57</td>\n",
       "      <td>486</td>\n",
       "      <td>488</td>\n",
       "    </tr>\n",
       "    <tr>\n",
       "      <th>16</th>\n",
       "      <td>DC</td>\n",
       "      <td>56</td>\n",
       "      <td>482</td>\n",
       "      <td>474</td>\n",
       "    </tr>\n",
       "    <tr>\n",
       "      <th>17</th>\n",
       "      <td>OR</td>\n",
       "      <td>55</td>\n",
       "      <td>526</td>\n",
       "      <td>526</td>\n",
       "    </tr>\n",
       "    <tr>\n",
       "      <th>18</th>\n",
       "      <td>FL</td>\n",
       "      <td>54</td>\n",
       "      <td>498</td>\n",
       "      <td>499</td>\n",
       "    </tr>\n",
       "    <tr>\n",
       "      <th>19</th>\n",
       "      <td>WA</td>\n",
       "      <td>53</td>\n",
       "      <td>527</td>\n",
       "      <td>527</td>\n",
       "    </tr>\n",
       "    <tr>\n",
       "      <th>20</th>\n",
       "      <td>TX</td>\n",
       "      <td>53</td>\n",
       "      <td>493</td>\n",
       "      <td>499</td>\n",
       "    </tr>\n",
       "    <tr>\n",
       "      <th>21</th>\n",
       "      <td>HI</td>\n",
       "      <td>52</td>\n",
       "      <td>485</td>\n",
       "      <td>515</td>\n",
       "    </tr>\n",
       "    <tr>\n",
       "      <th>22</th>\n",
       "      <td>AK</td>\n",
       "      <td>51</td>\n",
       "      <td>514</td>\n",
       "      <td>510</td>\n",
       "    </tr>\n",
       "    <tr>\n",
       "      <th>23</th>\n",
       "      <td>CA</td>\n",
       "      <td>51</td>\n",
       "      <td>498</td>\n",
       "      <td>517</td>\n",
       "    </tr>\n",
       "    <tr>\n",
       "      <th>24</th>\n",
       "      <td>AZ</td>\n",
       "      <td>34</td>\n",
       "      <td>523</td>\n",
       "      <td>525</td>\n",
       "    </tr>\n",
       "    <tr>\n",
       "      <th>25</th>\n",
       "      <td>NV</td>\n",
       "      <td>33</td>\n",
       "      <td>509</td>\n",
       "      <td>515</td>\n",
       "    </tr>\n",
       "    <tr>\n",
       "      <th>26</th>\n",
       "      <td>CO</td>\n",
       "      <td>31</td>\n",
       "      <td>539</td>\n",
       "      <td>542</td>\n",
       "    </tr>\n",
       "    <tr>\n",
       "      <th>27</th>\n",
       "      <td>OH</td>\n",
       "      <td>26</td>\n",
       "      <td>534</td>\n",
       "      <td>439</td>\n",
       "    </tr>\n",
       "    <tr>\n",
       "      <th>28</th>\n",
       "      <td>MT</td>\n",
       "      <td>23</td>\n",
       "      <td>539</td>\n",
       "      <td>539</td>\n",
       "    </tr>\n",
       "    <tr>\n",
       "      <th>29</th>\n",
       "      <td>WV</td>\n",
       "      <td>18</td>\n",
       "      <td>527</td>\n",
       "      <td>512</td>\n",
       "    </tr>\n",
       "    <tr>\n",
       "      <th>30</th>\n",
       "      <td>ID</td>\n",
       "      <td>17</td>\n",
       "      <td>543</td>\n",
       "      <td>542</td>\n",
       "    </tr>\n",
       "    <tr>\n",
       "      <th>31</th>\n",
       "      <td>TN</td>\n",
       "      <td>13</td>\n",
       "      <td>562</td>\n",
       "      <td>553</td>\n",
       "    </tr>\n",
       "    <tr>\n",
       "      <th>32</th>\n",
       "      <td>NM</td>\n",
       "      <td>13</td>\n",
       "      <td>551</td>\n",
       "      <td>542</td>\n",
       "    </tr>\n",
       "    <tr>\n",
       "      <th>33</th>\n",
       "      <td>IL</td>\n",
       "      <td>12</td>\n",
       "      <td>576</td>\n",
       "      <td>589</td>\n",
       "    </tr>\n",
       "    <tr>\n",
       "      <th>34</th>\n",
       "      <td>KY</td>\n",
       "      <td>12</td>\n",
       "      <td>550</td>\n",
       "      <td>550</td>\n",
       "    </tr>\n",
       "    <tr>\n",
       "      <th>35</th>\n",
       "      <td>WY</td>\n",
       "      <td>11</td>\n",
       "      <td>547</td>\n",
       "      <td>545</td>\n",
       "    </tr>\n",
       "    <tr>\n",
       "      <th>36</th>\n",
       "      <td>MI</td>\n",
       "      <td>11</td>\n",
       "      <td>561</td>\n",
       "      <td>572</td>\n",
       "    </tr>\n",
       "    <tr>\n",
       "      <th>37</th>\n",
       "      <td>MN</td>\n",
       "      <td>9</td>\n",
       "      <td>580</td>\n",
       "      <td>589</td>\n",
       "    </tr>\n",
       "    <tr>\n",
       "      <th>38</th>\n",
       "      <td>KS</td>\n",
       "      <td>9</td>\n",
       "      <td>577</td>\n",
       "      <td>580</td>\n",
       "    </tr>\n",
       "    <tr>\n",
       "      <th>39</th>\n",
       "      <td>AL</td>\n",
       "      <td>9</td>\n",
       "      <td>559</td>\n",
       "      <td>554</td>\n",
       "    </tr>\n",
       "    <tr>\n",
       "      <th>40</th>\n",
       "      <td>NE</td>\n",
       "      <td>8</td>\n",
       "      <td>562</td>\n",
       "      <td>568</td>\n",
       "    </tr>\n",
       "    <tr>\n",
       "      <th>41</th>\n",
       "      <td>OK</td>\n",
       "      <td>8</td>\n",
       "      <td>567</td>\n",
       "      <td>561</td>\n",
       "    </tr>\n",
       "    <tr>\n",
       "      <th>42</th>\n",
       "      <td>MO</td>\n",
       "      <td>8</td>\n",
       "      <td>577</td>\n",
       "      <td>577</td>\n",
       "    </tr>\n",
       "    <tr>\n",
       "      <th>43</th>\n",
       "      <td>LA</td>\n",
       "      <td>7</td>\n",
       "      <td>564</td>\n",
       "      <td>562</td>\n",
       "    </tr>\n",
       "    <tr>\n",
       "      <th>44</th>\n",
       "      <td>WI</td>\n",
       "      <td>6</td>\n",
       "      <td>584</td>\n",
       "      <td>596</td>\n",
       "    </tr>\n",
       "    <tr>\n",
       "      <th>45</th>\n",
       "      <td>AR</td>\n",
       "      <td>6</td>\n",
       "      <td>562</td>\n",
       "      <td>550</td>\n",
       "    </tr>\n",
       "    <tr>\n",
       "      <th>46</th>\n",
       "      <td>UT</td>\n",
       "      <td>5</td>\n",
       "      <td>575</td>\n",
       "      <td>570</td>\n",
       "    </tr>\n",
       "    <tr>\n",
       "      <th>47</th>\n",
       "      <td>IA</td>\n",
       "      <td>5</td>\n",
       "      <td>593</td>\n",
       "      <td>603</td>\n",
       "    </tr>\n",
       "    <tr>\n",
       "      <th>48</th>\n",
       "      <td>SD</td>\n",
       "      <td>4</td>\n",
       "      <td>577</td>\n",
       "      <td>582</td>\n",
       "    </tr>\n",
       "    <tr>\n",
       "      <th>49</th>\n",
       "      <td>ND</td>\n",
       "      <td>4</td>\n",
       "      <td>592</td>\n",
       "      <td>599</td>\n",
       "    </tr>\n",
       "    <tr>\n",
       "      <th>50</th>\n",
       "      <td>MS</td>\n",
       "      <td>4</td>\n",
       "      <td>566</td>\n",
       "      <td>551</td>\n",
       "    </tr>\n",
       "    <tr>\n",
       "      <th>51</th>\n",
       "      <td>All</td>\n",
       "      <td>45</td>\n",
       "      <td>506</td>\n",
       "      <td>514</td>\n",
       "    </tr>\n",
       "  </tbody>\n",
       "</table>\n",
       "</div>"
      ],
      "text/plain": [
       "   State  Rate  Verbal  Math\n",
       "0     CT    82     509   510\n",
       "1     NJ    81     499   513\n",
       "2     MA    79     511   515\n",
       "3     NY    77     495   505\n",
       "4     NH    72     520   516\n",
       "5     RI    71     501   499\n",
       "6     PA    71     500   499\n",
       "7     VT    69     511   506\n",
       "8     ME    69     506   500\n",
       "9     VA    68     510   501\n",
       "10    DE    67     501   499\n",
       "11    MD    65     508   510\n",
       "12    NC    65     493   499\n",
       "13    GA    63     491   489\n",
       "14    IN    60     499   501\n",
       "15    SC    57     486   488\n",
       "16    DC    56     482   474\n",
       "17    OR    55     526   526\n",
       "18    FL    54     498   499\n",
       "19    WA    53     527   527\n",
       "20    TX    53     493   499\n",
       "21    HI    52     485   515\n",
       "22    AK    51     514   510\n",
       "23    CA    51     498   517\n",
       "24    AZ    34     523   525\n",
       "25    NV    33     509   515\n",
       "26    CO    31     539   542\n",
       "27    OH    26     534   439\n",
       "28    MT    23     539   539\n",
       "29    WV    18     527   512\n",
       "30    ID    17     543   542\n",
       "31    TN    13     562   553\n",
       "32    NM    13     551   542\n",
       "33    IL    12     576   589\n",
       "34    KY    12     550   550\n",
       "35    WY    11     547   545\n",
       "36    MI    11     561   572\n",
       "37    MN     9     580   589\n",
       "38    KS     9     577   580\n",
       "39    AL     9     559   554\n",
       "40    NE     8     562   568\n",
       "41    OK     8     567   561\n",
       "42    MO     8     577   577\n",
       "43    LA     7     564   562\n",
       "44    WI     6     584   596\n",
       "45    AR     6     562   550\n",
       "46    UT     5     575   570\n",
       "47    IA     5     593   603\n",
       "48    SD     4     577   582\n",
       "49    ND     4     592   599\n",
       "50    MS     4     566   551\n",
       "51   All    45     506   514"
      ]
     },
     "execution_count": 6,
     "metadata": {},
     "output_type": "execute_result"
    }
   ],
   "source": [
    "#making dataframe with read_csv\n",
    "\n",
    "df = pd.read_csv(pathtofile)\n",
    "df"
   ]
  },
  {
   "cell_type": "code",
   "execution_count": 7,
   "metadata": {},
   "outputs": [
    {
     "name": "stdout",
     "output_type": "stream",
     "text": [
      "Math      object\n",
      "Rate      object\n",
      "State     object\n",
      "Verbal    object\n",
      "dtype: object\n",
      "State     object\n",
      "Rate       int64\n",
      "Verbal     int64\n",
      "Math       int64\n",
      "dtype: object\n"
     ]
    }
   ],
   "source": [
    "print dict_to_df.dtypes\n",
    "print df.dtypes"
   ]
  },
  {
   "cell_type": "markdown",
   "metadata": {},
   "source": [
    "If you did not convert the string column values to float in your dictionary, the columns in the DataFrame are of type `object` (which are string values, essentially). "
   ]
  },
  {
   "cell_type": "code",
   "execution_count": 8,
   "metadata": {},
   "outputs": [],
   "source": [
    "#Dataframe for question 6.\n",
    "df6 = df"
   ]
  },
  {
   "cell_type": "code",
   "execution_count": 9,
   "metadata": {},
   "outputs": [
    {
     "name": "stdout",
     "output_type": "stream",
     "text": [
      "<class 'pandas.core.frame.DataFrame'>\n",
      "RangeIndex: 52 entries, 0 to 51\n",
      "Data columns (total 4 columns):\n",
      "State     52 non-null object\n",
      "Rate      52 non-null int64\n",
      "Verbal    52 non-null int64\n",
      "Math      52 non-null int64\n",
      "dtypes: int64(3), object(1)\n",
      "memory usage: 1.7+ KB\n"
     ]
    }
   ],
   "source": [
    "df.info()"
   ]
  },
  {
   "cell_type": "markdown",
   "metadata": {},
   "source": [
    "### 1.3 Look at the first ten rows of the DataFrame: what does our data describe?\n",
    "\n",
    "From now on, use the DataFrame loaded from the file using the `.read_csv()` function.\n",
    "\n",
    "Use the `.head(num)` built-in DataFrame function, where `num` is the number of rows to print out.\n",
    "\n",
    "You are not given a \"codebook\" with this data, so you will have to make some (very minor) inference."
   ]
  },
  {
   "cell_type": "code",
   "execution_count": 10,
   "metadata": {},
   "outputs": [
    {
     "data": {
      "text/html": [
       "<div>\n",
       "<style scoped>\n",
       "    .dataframe tbody tr th:only-of-type {\n",
       "        vertical-align: middle;\n",
       "    }\n",
       "\n",
       "    .dataframe tbody tr th {\n",
       "        vertical-align: top;\n",
       "    }\n",
       "\n",
       "    .dataframe thead th {\n",
       "        text-align: right;\n",
       "    }\n",
       "</style>\n",
       "<table border=\"1\" class=\"dataframe\">\n",
       "  <thead>\n",
       "    <tr style=\"text-align: right;\">\n",
       "      <th></th>\n",
       "      <th>State</th>\n",
       "      <th>Rate</th>\n",
       "      <th>Verbal</th>\n",
       "      <th>Math</th>\n",
       "    </tr>\n",
       "  </thead>\n",
       "  <tbody>\n",
       "    <tr>\n",
       "      <th>0</th>\n",
       "      <td>CT</td>\n",
       "      <td>82</td>\n",
       "      <td>509</td>\n",
       "      <td>510</td>\n",
       "    </tr>\n",
       "    <tr>\n",
       "      <th>1</th>\n",
       "      <td>NJ</td>\n",
       "      <td>81</td>\n",
       "      <td>499</td>\n",
       "      <td>513</td>\n",
       "    </tr>\n",
       "    <tr>\n",
       "      <th>2</th>\n",
       "      <td>MA</td>\n",
       "      <td>79</td>\n",
       "      <td>511</td>\n",
       "      <td>515</td>\n",
       "    </tr>\n",
       "    <tr>\n",
       "      <th>3</th>\n",
       "      <td>NY</td>\n",
       "      <td>77</td>\n",
       "      <td>495</td>\n",
       "      <td>505</td>\n",
       "    </tr>\n",
       "    <tr>\n",
       "      <th>4</th>\n",
       "      <td>NH</td>\n",
       "      <td>72</td>\n",
       "      <td>520</td>\n",
       "      <td>516</td>\n",
       "    </tr>\n",
       "    <tr>\n",
       "      <th>5</th>\n",
       "      <td>RI</td>\n",
       "      <td>71</td>\n",
       "      <td>501</td>\n",
       "      <td>499</td>\n",
       "    </tr>\n",
       "    <tr>\n",
       "      <th>6</th>\n",
       "      <td>PA</td>\n",
       "      <td>71</td>\n",
       "      <td>500</td>\n",
       "      <td>499</td>\n",
       "    </tr>\n",
       "    <tr>\n",
       "      <th>7</th>\n",
       "      <td>VT</td>\n",
       "      <td>69</td>\n",
       "      <td>511</td>\n",
       "      <td>506</td>\n",
       "    </tr>\n",
       "    <tr>\n",
       "      <th>8</th>\n",
       "      <td>ME</td>\n",
       "      <td>69</td>\n",
       "      <td>506</td>\n",
       "      <td>500</td>\n",
       "    </tr>\n",
       "    <tr>\n",
       "      <th>9</th>\n",
       "      <td>VA</td>\n",
       "      <td>68</td>\n",
       "      <td>510</td>\n",
       "      <td>501</td>\n",
       "    </tr>\n",
       "  </tbody>\n",
       "</table>\n",
       "</div>"
      ],
      "text/plain": [
       "  State  Rate  Verbal  Math\n",
       "0    CT    82     509   510\n",
       "1    NJ    81     499   513\n",
       "2    MA    79     511   515\n",
       "3    NY    77     495   505\n",
       "4    NH    72     520   516\n",
       "5    RI    71     501   499\n",
       "6    PA    71     500   499\n",
       "7    VT    69     511   506\n",
       "8    ME    69     506   500\n",
       "9    VA    68     510   501"
      ]
     },
     "execution_count": 10,
     "metadata": {},
     "output_type": "execute_result"
    }
   ],
   "source": [
    "df.head(10)\n",
    "# We have states and their test metrics:\n",
    "# Rate = percent of students that take the SAT\n",
    "# Verbal = average verbal score\n",
    "# Math = average math score"
   ]
  },
  {
   "cell_type": "code",
   "execution_count": 11,
   "metadata": {},
   "outputs": [
    {
     "data": {
      "text/plain": [
       "array(['State', 'Rate', 'Verbal', 'Math'], dtype=object)"
      ]
     },
     "execution_count": 11,
     "metadata": {},
     "output_type": "execute_result"
    }
   ],
   "source": [
    "df.columns.values"
   ]
  },
  {
   "cell_type": "code",
   "execution_count": 12,
   "metadata": {},
   "outputs": [
    {
     "data": {
      "text/html": [
       "<div>\n",
       "<style scoped>\n",
       "    .dataframe tbody tr th:only-of-type {\n",
       "        vertical-align: middle;\n",
       "    }\n",
       "\n",
       "    .dataframe tbody tr th {\n",
       "        vertical-align: top;\n",
       "    }\n",
       "\n",
       "    .dataframe thead th {\n",
       "        text-align: right;\n",
       "    }\n",
       "</style>\n",
       "<table border=\"1\" class=\"dataframe\">\n",
       "  <thead>\n",
       "    <tr style=\"text-align: right;\">\n",
       "      <th></th>\n",
       "      <th>Rate</th>\n",
       "      <th>Verbal</th>\n",
       "      <th>Math</th>\n",
       "    </tr>\n",
       "  </thead>\n",
       "  <tbody>\n",
       "    <tr>\n",
       "      <th>count</th>\n",
       "      <td>52.000000</td>\n",
       "      <td>52.000000</td>\n",
       "      <td>52.000000</td>\n",
       "    </tr>\n",
       "    <tr>\n",
       "      <th>mean</th>\n",
       "      <td>37.153846</td>\n",
       "      <td>532.019231</td>\n",
       "      <td>531.500000</td>\n",
       "    </tr>\n",
       "    <tr>\n",
       "      <th>std</th>\n",
       "      <td>27.301788</td>\n",
       "      <td>33.236225</td>\n",
       "      <td>36.014975</td>\n",
       "    </tr>\n",
       "    <tr>\n",
       "      <th>min</th>\n",
       "      <td>4.000000</td>\n",
       "      <td>482.000000</td>\n",
       "      <td>439.000000</td>\n",
       "    </tr>\n",
       "    <tr>\n",
       "      <th>25%</th>\n",
       "      <td>9.000000</td>\n",
       "      <td>501.000000</td>\n",
       "      <td>504.000000</td>\n",
       "    </tr>\n",
       "    <tr>\n",
       "      <th>50%</th>\n",
       "      <td>33.500000</td>\n",
       "      <td>526.500000</td>\n",
       "      <td>521.000000</td>\n",
       "    </tr>\n",
       "    <tr>\n",
       "      <th>75%</th>\n",
       "      <td>63.500000</td>\n",
       "      <td>562.000000</td>\n",
       "      <td>555.750000</td>\n",
       "    </tr>\n",
       "    <tr>\n",
       "      <th>max</th>\n",
       "      <td>82.000000</td>\n",
       "      <td>593.000000</td>\n",
       "      <td>603.000000</td>\n",
       "    </tr>\n",
       "  </tbody>\n",
       "</table>\n",
       "</div>"
      ],
      "text/plain": [
       "            Rate      Verbal        Math\n",
       "count  52.000000   52.000000   52.000000\n",
       "mean   37.153846  532.019231  531.500000\n",
       "std    27.301788   33.236225   36.014975\n",
       "min     4.000000  482.000000  439.000000\n",
       "25%     9.000000  501.000000  504.000000\n",
       "50%    33.500000  526.500000  521.000000\n",
       "75%    63.500000  562.000000  555.750000\n",
       "max    82.000000  593.000000  603.000000"
      ]
     },
     "execution_count": 12,
     "metadata": {},
     "output_type": "execute_result"
    }
   ],
   "source": [
    "df.describe()"
   ]
  },
  {
   "cell_type": "code",
   "execution_count": 13,
   "metadata": {},
   "outputs": [
    {
     "data": {
      "text/plain": [
       "pandas.core.frame.DataFrame"
      ]
     },
     "execution_count": 13,
     "metadata": {},
     "output_type": "execute_result"
    }
   ],
   "source": [
    "type(df.describe())"
   ]
  },
  {
   "cell_type": "code",
   "execution_count": 14,
   "metadata": {},
   "outputs": [
    {
     "data": {
      "text/plain": [
       "(52, 4)"
      ]
     },
     "execution_count": 14,
     "metadata": {},
     "output_type": "execute_result"
    }
   ],
   "source": [
    "df.shape"
   ]
  },
  {
   "cell_type": "markdown",
   "metadata": {},
   "source": [
    "#### Anomaly detected in last row."
   ]
  },
  {
   "cell_type": "code",
   "execution_count": 15,
   "metadata": {},
   "outputs": [
    {
     "name": "stdout",
     "output_type": "stream",
     "text": [
      "   State  Rate  Verbal  Math\n",
      "49    ND     4     592   599\n",
      "50    MS     4     566   551\n",
      "51   All    45     506   514\n"
     ]
    }
   ],
   "source": [
    "print df.tail(3)"
   ]
  },
  {
   "cell_type": "code",
   "execution_count": 16,
   "metadata": {},
   "outputs": [],
   "source": [
    "all_avg = df[df.State == 'All']\n",
    "df = df[df.State != 'All']"
   ]
  },
  {
   "cell_type": "markdown",
   "metadata": {},
   "source": [
    "<img src=\"http://imgur.com/l5NasQj.png\" style=\"float: left; margin: 25px 15px 0px 0px; height: 25px\">\n",
    "\n",
    "## 2. Create a \"data dictionary\" based on the data\n",
    "\n",
    "---\n",
    "\n",
    "A data dictionary is an object that describes your data. This should contain the name of each variable (column), the type of the variable, your description of what the variable is, and the shape (rows and columns) of the entire dataset."
   ]
  },
  {
   "cell_type": "code",
   "execution_count": 17,
   "metadata": {},
   "outputs": [
    {
     "data": {
      "text/plain": [
       "{'Math': {'25%': 503.0,\n",
       "  '50%': 525.0,\n",
       "  '75%': 557.5,\n",
       "  'count': 51.0,\n",
       "  'max': 603.0,\n",
       "  'mean': 531.843137254902,\n",
       "  'min': 439.0,\n",
       "  'std': 36.28739315465888},\n",
       " 'Rate': {'25%': 9.0,\n",
       "  '50%': 33.0,\n",
       "  '75%': 64.0,\n",
       "  'count': 51.0,\n",
       "  'max': 82.0,\n",
       "  'mean': 37.0,\n",
       "  'min': 4.0,\n",
       "  'std': 27.550680572356104},\n",
       " 'Verbal': {'25%': 501.0,\n",
       "  '50%': 527.0,\n",
       "  '75%': 562.0,\n",
       "  'count': 51.0,\n",
       "  'max': 593.0,\n",
       "  'mean': 532.5294117647059,\n",
       "  'min': 482.0,\n",
       "  'std': 33.360667224248665},\n",
       " 'columns': ['State', 'Rate', 'Verbal', 'Math'],\n",
       " 'shape': {'col': 4, 'row': 52}}"
      ]
     },
     "execution_count": 17,
     "metadata": {},
     "output_type": "execute_result"
    }
   ],
   "source": [
    "data_dictionary ={'shape': {'row': 52,\n",
    "                            'col': 4\n",
    "                           },\n",
    "                  'columns' : ['State', 'Rate', 'Verbal', 'Math'],\n",
    "                  }\n",
    "\n",
    "data_dictionary.update(df.describe().to_dict(orient='dict'))\n",
    "\n",
    "data_dictionary\n"
   ]
  },
  {
   "cell_type": "markdown",
   "metadata": {},
   "source": [
    "<img src=\"http://imgur.com/l5NasQj.png\" style=\"float: left; margin: 25px 15px 0px 0px; height: 25px\">\n",
    "\n",
    "## 3. Plot the data using seaborn\n",
    "\n",
    "---\n",
    "\n",
    "### 3.1 Using seaborn's `distplot`, plot the distributions for each of `Rate`, `Math`, and `Verbal`\n",
    "\n",
    "Set the keyword argument `kde=False`. This way you can actually see the counts within bins. You can adjust the number of bins to your liking. \n",
    "\n",
    "[Please read over the `distplot` documentation to learn about the arguments and fine-tune your chart if you want.](https://stanford.edu/~mwaskom/software/seaborn/generated/seaborn.distplot.html#seaborn.distplot)"
   ]
  },
  {
   "cell_type": "code",
   "execution_count": 18,
   "metadata": {},
   "outputs": [
    {
     "data": {
      "text/plain": [
       "pandas.core.series.Series"
      ]
     },
     "execution_count": 18,
     "metadata": {},
     "output_type": "execute_result"
    }
   ],
   "source": [
    "type(df.Rate)"
   ]
  },
  {
   "cell_type": "code",
   "execution_count": 23,
   "metadata": {},
   "outputs": [
    {
     "data": {
      "image/png": "[encoded data removed]",
      "text/plain": [
       "<matplotlib.figure.Figure at 0x112c33bd0>"
      ]
     },
     "metadata": {
      "image/png": {
       "height": 263,
       "width": 364
      }
     },
     "output_type": "display_data"
    }
   ],
   "source": [
    "sns.distplot(df.Rate, color='blue', bins=20, kde=False);"
   ]
  },
  {
   "cell_type": "code",
   "execution_count": 24,
   "metadata": {},
   "outputs": [
    {
     "data": {
      "image/png": "[encoded data removed]",
      "text/plain": [
       "<matplotlib.figure.Figure at 0x112c4bad0>"
      ]
     },
     "metadata": {
      "image/png": {
       "height": 263,
       "width": 364
      }
     },
     "output_type": "display_data"
    }
   ],
   "source": [
    "sns.distplot(df.Math, color='red', bins=20, kde=False);"
   ]
  },
  {
   "cell_type": "code",
   "execution_count": 25,
   "metadata": {},
   "outputs": [
    {
     "data": {
      "image/png": "[encoded data removed]",
      "text/plain": [
       "<matplotlib.figure.Figure at 0x1135df6d0>"
      ]
     },
     "metadata": {
      "image/png": {
       "height": 263,
       "width": 364
      }
     },
     "output_type": "display_data"
    }
   ],
   "source": [
    "sns.distplot(df.Verbal, color='green', bins=20, kde=False);"
   ]
  },
  {
   "cell_type": "markdown",
   "metadata": {},
   "source": [
    "### 3.2 Using seaborn's `pairplot`, show the joint distributions for each of `Rate`, `Math`, and `Verbal`\n",
    "\n",
    "Explain what the visualization tells you about your data.\n",
    "\n",
    "[Please read over the `pairplot` documentation to fine-tune your chart.](https://stanford.edu/~mwaskom/software/seaborn/generated/seaborn.pairplot.html#seaborn.pairplot)"
   ]
  },
  {
   "cell_type": "code",
   "execution_count": 26,
   "metadata": {},
   "outputs": [
    {
     "data": {
      "image/png": "[encoded data removed]",
      "text/plain": [
       "<matplotlib.figure.Figure at 0x11383e090>"
      ]
     },
     "metadata": {
      "image/png": {
       "height": 529,
       "width": 526
      }
     },
     "output_type": "display_data"
    }
   ],
   "source": [
    "sns.pairplot(df);"
   ]
  },
  {
   "cell_type": "markdown",
   "metadata": {},
   "source": [
    "**Analysis**:\n",
    "1. Increasing Rate is associated with lower scores in Math and Verbal, though perhaps not that strongly.\n",
    "2. Verbal and Math scores are correlated."
   ]
  },
  {
   "cell_type": "markdown",
   "metadata": {},
   "source": [
    "<img src=\"http://imgur.com/l5NasQj.png\" style=\"float: left; margin: 25px 15px 0px 0px; height: 25px\">\n",
    "\n",
    "## 4. Plot the data using built-in pandas functions.\n",
    "\n",
    "---\n",
    "\n",
    "Pandas is very powerful and contains a variety of nice, built-in plotting functions for your data. Read the documentation here to understand the capabilities:\n",
    "\n",
    "http://pandas.pydata.org/pandas-docs/stable/visualization.html\n",
    "\n",
    "### 4.1 Plot a stacked histogram with `Verbal` and `Math` using pandas"
   ]
  },
  {
   "cell_type": "markdown",
   "metadata": {},
   "source": [
    "### I shall demonstrate using both matplotlib and seaborn for plotting"
   ]
  },
  {
   "cell_type": "code",
   "execution_count": 28,
   "metadata": {},
   "outputs": [
    {
     "data": {
      "image/png": "[encoded data removed]",
      "text/plain": [
       "<matplotlib.figure.Figure at 0x1a15198b50>"
      ]
     },
     "metadata": {
      "image/png": {
       "height": 426,
       "width": 886
      }
     },
     "output_type": "display_data"
    }
   ],
   "source": [
    "fig = plt.figure(figsize=(15,7))\n",
    "\n",
    "plt.xlabel('Range')\n",
    "plt.ylabel('Count')\n",
    "plt.hist([df.Verbal, df.Math], bins=20, color=['blue','red'],\n",
    "         label=['Verbal','Math'], stacked=True )\n",
    "plt.legend();"
   ]
  },
  {
   "cell_type": "markdown",
   "metadata": {},
   "source": [
    "#### Using Seaborn"
   ]
  },
  {
   "cell_type": "code",
   "execution_count": 27,
   "metadata": {},
   "outputs": [
    {
     "data": {
      "image/png": "[encoded data removed]",
      "text/plain": [
       "<matplotlib.figure.Figure at 0x112c3eb10>"
      ]
     },
     "metadata": {
      "image/png": {
       "height": 463,
       "width": 885
      }
     },
     "output_type": "display_data"
    }
   ],
   "source": [
    "fig = plt.figure(figsize=(15,7))\n",
    "ax = fig.gca()\n",
    "\n",
    "# Plot the bars for just verbal and math\n",
    "df[['Verbal','Math']].plot.bar(stacked=True, ax=ax)\n",
    "\n",
    "# put the title on\n",
    "ax.set_title('Verbal and Math scores stacked histogram\\n', fontsize=20)\n",
    "\n",
    "# change the x-ticks to be the states instead of the row indices\n",
    "# this wasn't required, but is nice\n",
    "states = df.State\n",
    "ax.set_xticklabels(states)\n",
    "\n",
    "plt.show()\n",
    "\n"
   ]
  },
  {
   "cell_type": "markdown",
   "metadata": {},
   "source": [
    "### 4.2 Plot `Verbal` and `Math` on the same chart using boxplots\n",
    "\n",
    "What are the benefits of using a boxplot as compared to a scatterplot or a histogram?\n",
    "\n",
    "What's wrong with plotting a box-plot of `Rate` on the same chart as `Math` and `Verbal`?"
   ]
  },
  {
   "cell_type": "code",
   "execution_count": 33,
   "metadata": {},
   "outputs": [
    {
     "data": {
      "image/png": "[encoded data removed]",
      "text/plain": [
       "<matplotlib.figure.Figure at 0x1a175454d0>"
      ]
     },
     "metadata": {
      "image/png": {
       "height": 413,
       "width": 432
      }
     },
     "output_type": "display_data"
    }
   ],
   "source": [
    "#create a list of data you want to plot\n",
    "data_to_plot = [df.Verbal, df.Math]\n",
    "\n",
    "#Create a figure instance\n",
    "fig = plt.figure(1, figsize=(7,7))\n",
    "\n",
    "#Create an axes instance\n",
    "ax = fig.add_subplot(111)\n",
    "\n",
    "#Create the box plot\n",
    "bp = ax.boxplot(data_to_plot)\n",
    "\n",
    "#Set the tick labels for x-axis\n",
    "ax.set_xticklabels(['Verbal', 'Math']);"
   ]
  },
  {
   "cell_type": "markdown",
   "metadata": {},
   "source": [
    "#### Using Seaborn"
   ]
  },
  {
   "cell_type": "code",
   "execution_count": 29,
   "metadata": {},
   "outputs": [
    {
     "data": {
      "image/png": "[encoded data removed]",
      "text/plain": [
       "<matplotlib.figure.Figure at 0x1a16360250>"
      ]
     },
     "metadata": {
      "image/png": {
       "height": 456,
       "width": 432
      }
     },
     "output_type": "display_data"
    }
   ],
   "source": [
    "fig = plt.figure(figsize=(7,7))\n",
    "ax = fig.gca()\n",
    "\n",
    "ax = sns.boxplot(data=df[['Verbal','Math']], ax=ax, notch=True)\n",
    "\n",
    "ax.set_title('Verbal and Math boxplot\\n', fontsize=20)\n",
    "\n",
    "plt.show()"
   ]
  },
  {
   "cell_type": "markdown",
   "metadata": {},
   "source": [
    "<img src=\"http://imgur.com/xDpSobf.png\" style=\"float: left; margin: 25px 15px 0px 0px; height: 25px\">\n",
    "\n",
    "### 4.3 Plot `Verbal`, `Math`, and `Rate` appropriately on the same boxplot chart\n",
    "\n",
    "Think about how you might change the variables so that they would make sense on the same chart. Explain your rationale for the choices on the chart. You should strive to make the chart as intuitive as possible. \n"
   ]
  },
  {
   "cell_type": "markdown",
   "metadata": {},
   "source": [
    "#### Standardizing Variables"
   ]
  },
  {
   "cell_type": "code",
   "execution_count": 35,
   "metadata": {},
   "outputs": [
    {
     "name": "stdout",
     "output_type": "stream",
     "text": [
      "532.5294117647059\n",
      "33.03198268415228\n"
     ]
    }
   ],
   "source": [
    "# Standardized Variable = (Variable - mean of Variable) / std of Variable\n",
    "\n",
    "#Find the variable mean and std\n",
    "verbal_mean = np.mean(df.Verbal.values)\n",
    "verbal_std = np.std(df.Verbal.values)\n",
    "\n",
    "print verbal_mean\n",
    "print verbal_std\n"
   ]
  },
  {
   "cell_type": "code",
   "execution_count": 36,
   "metadata": {},
   "outputs": [
    {
     "name": "stdout",
     "output_type": "stream",
     "text": [
      "8.098097356089377e-16\n",
      "0.9999999999999998\n"
     ]
    }
   ],
   "source": [
    "# standardize the Verbal variable\n",
    "\n",
    "stand_verbal = (df.Verbal.values - verbal_mean) / verbal_std\n",
    "\n",
    "stand_verbal_mean = np.mean(stand_verbal)\n",
    "\n",
    "stand_verbal_std = np.std(stand_verbal)\n",
    "\n",
    "#the new mean is close to 0 and std = 1.0\n",
    "print stand_verbal_mean\n",
    "print stand_verbal_std"
   ]
  },
  {
   "cell_type": "code",
   "execution_count": 37,
   "metadata": {},
   "outputs": [
    {
     "name": "stdout",
     "output_type": "stream",
     "text": [
      "531.843137254902\n",
      "35.92987317311408\n",
      "-8.272249987403127e-16\n",
      "1.0\n"
     ]
    }
   ],
   "source": [
    "# standardize the Math variable\n",
    "\n",
    "math_mean = np.mean(df.Math.values)\n",
    "math_std = np.std(df.Math.values)\n",
    "\n",
    "stand_math = (df.Math.values - math_mean) / math_std\n",
    "stand_math_mean = np.mean(stand_math)\n",
    "stand_math_std = np.std(stand_math)\n",
    "\n",
    "print math_mean\n",
    "print math_std\n",
    "print stand_math_mean\n",
    "print stand_math_std"
   ]
  },
  {
   "cell_type": "code",
   "execution_count": 38,
   "metadata": {},
   "outputs": [
    {
     "name": "stdout",
     "output_type": "stream",
     "text": [
      "37.0\n",
      "27.27923867605359\n",
      "-8.707631565687502e-18\n",
      "1.0\n"
     ]
    }
   ],
   "source": [
    "# Standardize the Rate variable\n",
    "\n",
    "rate_mean = np.mean(df.Rate.values)\n",
    "rate_std = np.std(df.Rate.values)\n",
    "\n",
    "stand_rate = (df.Rate.values - rate_mean) / rate_std\n",
    "stand_rate_mean = np.mean(stand_rate)\n",
    "stand_rate_std = np.std(stand_rate)\n",
    "\n",
    "print rate_mean\n",
    "print rate_std\n",
    "print stand_rate_mean\n",
    "print stand_rate_std"
   ]
  },
  {
   "cell_type": "code",
   "execution_count": 39,
   "metadata": {},
   "outputs": [
    {
     "data": {
      "text/plain": [
       "[Text(0,0,u'Rate'), Text(0,0,u'Verbal'), Text(0,0,u'Math')]"
      ]
     },
     "execution_count": 39,
     "metadata": {},
     "output_type": "execute_result"
    },
    {
     "data": {
      "image/png": "[encoded data removed]",
      "text/plain": [
       "<matplotlib.figure.Figure at 0x1a1753a490>"
      ]
     },
     "metadata": {
      "image/png": {
       "height": 358,
       "width": 540
      }
     },
     "output_type": "display_data"
    }
   ],
   "source": [
    "# Plotting the Standardized variables\n",
    "\n",
    "#create a list of data you want to plot\n",
    "data_to_plot = [stand_rate, stand_verbal, stand_math]\n",
    "\n",
    "#Create a figure instance\n",
    "fig = plt.figure(1, figsize=(9,6))\n",
    "\n",
    "#Create an axes instance\n",
    "ax = fig.add_subplot(111)\n",
    "\n",
    "#Create the box plot\n",
    "bp = ax.boxplot(data_to_plot)\n",
    "\n",
    "ax.set_xticklabels(['Rate', 'Verbal', 'Math'])"
   ]
  },
  {
   "cell_type": "markdown",
   "metadata": {},
   "source": [
    "#### Using Seaborn"
   ]
  },
  {
   "cell_type": "code",
   "execution_count": 40,
   "metadata": {},
   "outputs": [
    {
     "data": {
      "image/png": "[encoded data removed]",
      "text/plain": [
       "<matplotlib.figure.Figure at 0x1a17545690>"
      ]
     },
     "metadata": {
      "image/png": {
       "height": 456,
       "width": 741
      }
     },
     "output_type": "display_data"
    }
   ],
   "source": [
    "fig = plt.figure(figsize=(12,7))\n",
    "ax = fig.gca()\n",
    "\n",
    "ax = sns.boxplot(data=data_to_plot, ax=ax, notch=True)\n",
    "\n",
    "ax.set_title('Normalized Verbal, Math and Rate boxplot\\n', fontsize=20)\n",
    "ax.set_ylabel('Scores normalized to mean=0, std=1\\n', fontsize=14)\n",
    "\n",
    "plt.show()"
   ]
  },
  {
   "cell_type": "markdown",
   "metadata": {},
   "source": [
    "<img src=\"http://imgur.com/l5NasQj.png\" style=\"float: left; margin: 25px 15px 0px 0px; height: 25px\">\n",
    "\n",
    "## 5. Create and examine subsets of the data\n",
    "\n",
    "---\n",
    "\n",
    "For these questions you will practice **masking** in pandas. Masking uses conditional statements to select portions of your DataFrame (through boolean operations under the hood.)\n",
    "\n",
    "Remember the distinction between DataFrame indexing functions in pandas:\n",
    "\n",
    "    .iloc[row, col] : row and column are specified by index, which are integers\n",
    "    .loc[row, col]  : row and column are specified by string \"labels\" (boolean arrays are allowed; useful for rows)\n",
    "    .ix[row, col]   : row and column indexers can be a mix of labels and integer indices\n",
    "    \n",
    "For detailed reference and tutorial make sure to read over the pandas documentation:\n",
    "\n",
    "http://pandas.pydata.org/pandas-docs/stable/indexing.html\n",
    "\n",
    "\n",
    "\n",
    "### 5.1 Find the list of states that have `Verbal` scores greater than the average of `Verbal` scores across states\n",
    "\n",
    "How many states are above the mean? What does this tell you about the distribution of `Verbal` scores?\n",
    "\n",
    "\n"
   ]
  },
  {
   "cell_type": "code",
   "execution_count": 887,
   "metadata": {},
   "outputs": [
    {
     "data": {
      "text/plain": [
       "532.0192307692307"
      ]
     },
     "execution_count": 887,
     "metadata": {},
     "output_type": "execute_result"
    }
   ],
   "source": [
    "#mean of the Verbal score\n",
    "verbal_mean = df.Verbal.mean()\n",
    "verbal_mean"
   ]
  },
  {
   "cell_type": "code",
   "execution_count": 888,
   "metadata": {},
   "outputs": [
    {
     "data": {
      "text/plain": [
       "26    CO\n",
       "27    OH\n",
       "28    MT\n",
       "30    ID\n",
       "31    TN\n",
       "Name: State, dtype: object"
      ]
     },
     "execution_count": 888,
     "metadata": {},
     "output_type": "execute_result"
    }
   ],
   "source": [
    "#Create a mask from the subset\n",
    "subset = df.loc[:,'Verbal']\n",
    "mask = subset > verbal_mean\n",
    "\n",
    "#Apply the mask over the df.State series\n",
    "high_verbal_states= df.State.loc[mask]\n",
    "high_verbal_states.head()"
   ]
  },
  {
   "cell_type": "code",
   "execution_count": 889,
   "metadata": {},
   "outputs": [
    {
     "data": {
      "text/plain": [
       "24"
      ]
     },
     "execution_count": 889,
     "metadata": {},
     "output_type": "execute_result"
    }
   ],
   "source": [
    "# There are 24 States with a higher verbal score than the mean.\n",
    "len(high_verbal_states)"
   ]
  },
  {
   "cell_type": "markdown",
   "metadata": {},
   "source": [
    "### 5.2 Find the list of states that have `Verbal` scores greater than the median of `Verbal` scores across states\n",
    "\n",
    "How does this compare to the list of states greater than the mean of `Verbal` scores? Why?"
   ]
  },
  {
   "cell_type": "code",
   "execution_count": 890,
   "metadata": {},
   "outputs": [],
   "source": [
    "#Find the verbal median score\n",
    "verbal_median = df.Verbal.median()"
   ]
  },
  {
   "cell_type": "code",
   "execution_count": 891,
   "metadata": {},
   "outputs": [
    {
     "data": {
      "text/plain": [
       "19    WA\n",
       "26    CO\n",
       "27    OH\n",
       "28    MT\n",
       "29    WV\n",
       "Name: State, dtype: object"
      ]
     },
     "execution_count": 891,
     "metadata": {},
     "output_type": "execute_result"
    }
   ],
   "source": [
    "# Create a mask \n",
    "subset = df.Verbal\n",
    "mask = subset > verbal_median\n",
    "\n",
    "#Apply the mask \n",
    "high_Verbal_median = df.State.loc[mask]\n",
    "high_Verbal_median.head()"
   ]
  },
  {
   "cell_type": "markdown",
   "metadata": {},
   "source": [
    "### 5.3 Create a column that is the difference between the `Verbal` and `Math` scores\n",
    "\n",
    "Specifically, this should be `Verbal - Math`."
   ]
  },
  {
   "cell_type": "code",
   "execution_count": 892,
   "metadata": {},
   "outputs": [
    {
     "data": {
      "text/html": [
       "<div>\n",
       "<style scoped>\n",
       "    .dataframe tbody tr th:only-of-type {\n",
       "        vertical-align: middle;\n",
       "    }\n",
       "\n",
       "    .dataframe tbody tr th {\n",
       "        vertical-align: top;\n",
       "    }\n",
       "\n",
       "    .dataframe thead th {\n",
       "        text-align: right;\n",
       "    }\n",
       "</style>\n",
       "<table border=\"1\" class=\"dataframe\">\n",
       "  <thead>\n",
       "    <tr style=\"text-align: right;\">\n",
       "      <th></th>\n",
       "      <th>State</th>\n",
       "      <th>Rate</th>\n",
       "      <th>Verbal</th>\n",
       "      <th>Math</th>\n",
       "      <th>V_M</th>\n",
       "    </tr>\n",
       "  </thead>\n",
       "  <tbody>\n",
       "    <tr>\n",
       "      <th>0</th>\n",
       "      <td>CT</td>\n",
       "      <td>82</td>\n",
       "      <td>509</td>\n",
       "      <td>510</td>\n",
       "      <td>-1</td>\n",
       "    </tr>\n",
       "    <tr>\n",
       "      <th>1</th>\n",
       "      <td>NJ</td>\n",
       "      <td>81</td>\n",
       "      <td>499</td>\n",
       "      <td>513</td>\n",
       "      <td>-14</td>\n",
       "    </tr>\n",
       "    <tr>\n",
       "      <th>2</th>\n",
       "      <td>MA</td>\n",
       "      <td>79</td>\n",
       "      <td>511</td>\n",
       "      <td>515</td>\n",
       "      <td>-4</td>\n",
       "    </tr>\n",
       "    <tr>\n",
       "      <th>3</th>\n",
       "      <td>NY</td>\n",
       "      <td>77</td>\n",
       "      <td>495</td>\n",
       "      <td>505</td>\n",
       "      <td>-10</td>\n",
       "    </tr>\n",
       "    <tr>\n",
       "      <th>4</th>\n",
       "      <td>NH</td>\n",
       "      <td>72</td>\n",
       "      <td>520</td>\n",
       "      <td>516</td>\n",
       "      <td>4</td>\n",
       "    </tr>\n",
       "  </tbody>\n",
       "</table>\n",
       "</div>"
      ],
      "text/plain": [
       "  State  Rate  Verbal  Math  V_M\n",
       "0    CT    82     509   510   -1\n",
       "1    NJ    81     499   513  -14\n",
       "2    MA    79     511   515   -4\n",
       "3    NY    77     495   505  -10\n",
       "4    NH    72     520   516    4"
      ]
     },
     "execution_count": 892,
     "metadata": {},
     "output_type": "execute_result"
    }
   ],
   "source": [
    "v_m = df['Verbal'].values - df['Math'].values \n",
    "df['V_M'] = v_m\n",
    "df.head()"
   ]
  },
  {
   "cell_type": "markdown",
   "metadata": {},
   "source": [
    "### 5.4 Create two new DataFrames showing states with the greatest difference between scores\n",
    "\n",
    "1. Your first DataFrame should be the 10 states with the greatest gap between `Verbal` and `Math` scores where `Verbal` is greater than `Math`. It should be sorted appropriately to show the ranking of states.\n",
    "2. Your second DataFrame will be the inverse: states with the greatest gap between `Verbal` and `Math` such that `Math` is greater than `Verbal`. Again, this should be sorted appropriately to show rank.\n",
    "3. Print the header of both variables, only showing the top 3 states in each."
   ]
  },
  {
   "cell_type": "code",
   "execution_count": 893,
   "metadata": {},
   "outputs": [
    {
     "data": {
      "text/plain": [
       "27    95\n",
       "29    15\n",
       "50    15\n",
       "45    12\n",
       "9      9\n",
       "Name: V_M, dtype: int64"
      ]
     },
     "execution_count": 893,
     "metadata": {},
     "output_type": "execute_result"
    }
   ],
   "source": [
    "#chaining the subset, the mask, the sorting of 'Verbal' series\n",
    "vm_sorted = df.V_M.loc[ df.loc[:,'V_M']>0 ].sort_values(ascending=False)\n",
    "vm_sorted.head()"
   ]
  },
  {
   "cell_type": "code",
   "execution_count": 894,
   "metadata": {},
   "outputs": [
    {
     "data": {
      "text/html": [
       "<div>\n",
       "<style scoped>\n",
       "    .dataframe tbody tr th:only-of-type {\n",
       "        vertical-align: middle;\n",
       "    }\n",
       "\n",
       "    .dataframe tbody tr th {\n",
       "        vertical-align: top;\n",
       "    }\n",
       "\n",
       "    .dataframe thead th {\n",
       "        text-align: right;\n",
       "    }\n",
       "</style>\n",
       "<table border=\"1\" class=\"dataframe\">\n",
       "  <thead>\n",
       "    <tr style=\"text-align: right;\">\n",
       "      <th></th>\n",
       "      <th>V_M</th>\n",
       "    </tr>\n",
       "  </thead>\n",
       "  <tbody>\n",
       "    <tr>\n",
       "      <th>27</th>\n",
       "      <td>95</td>\n",
       "    </tr>\n",
       "    <tr>\n",
       "      <th>29</th>\n",
       "      <td>15</td>\n",
       "    </tr>\n",
       "    <tr>\n",
       "      <th>50</th>\n",
       "      <td>15</td>\n",
       "    </tr>\n",
       "    <tr>\n",
       "      <th>45</th>\n",
       "      <td>12</td>\n",
       "    </tr>\n",
       "    <tr>\n",
       "      <th>9</th>\n",
       "      <td>9</td>\n",
       "    </tr>\n",
       "  </tbody>\n",
       "</table>\n",
       "</div>"
      ],
      "text/plain": [
       "    V_M\n",
       "27   95\n",
       "29   15\n",
       "50   15\n",
       "45   12\n",
       "9     9"
      ]
     },
     "execution_count": 894,
     "metadata": {},
     "output_type": "execute_result"
    }
   ],
   "source": [
    "df_vm = pd.Series.to_frame(vm_sorted)\n",
    "df_vm.head()"
   ]
  },
  {
   "cell_type": "code",
   "execution_count": 895,
   "metadata": {},
   "outputs": [
    {
     "data": {
      "text/html": [
       "<div>\n",
       "<style scoped>\n",
       "    .dataframe tbody tr th:only-of-type {\n",
       "        vertical-align: middle;\n",
       "    }\n",
       "\n",
       "    .dataframe tbody tr th {\n",
       "        vertical-align: top;\n",
       "    }\n",
       "\n",
       "    .dataframe thead th {\n",
       "        text-align: right;\n",
       "    }\n",
       "</style>\n",
       "<table border=\"1\" class=\"dataframe\">\n",
       "  <thead>\n",
       "    <tr style=\"text-align: right;\">\n",
       "      <th></th>\n",
       "      <th>State</th>\n",
       "      <th>V_M</th>\n",
       "    </tr>\n",
       "  </thead>\n",
       "  <tbody>\n",
       "    <tr>\n",
       "      <th>56</th>\n",
       "      <td>OH</td>\n",
       "      <td>95</td>\n",
       "    </tr>\n",
       "    <tr>\n",
       "      <th>60</th>\n",
       "      <td>MS</td>\n",
       "      <td>15</td>\n",
       "    </tr>\n",
       "    <tr>\n",
       "      <th>59</th>\n",
       "      <td>MS</td>\n",
       "      <td>15</td>\n",
       "    </tr>\n",
       "    <tr>\n",
       "      <th>58</th>\n",
       "      <td>WV</td>\n",
       "      <td>15</td>\n",
       "    </tr>\n",
       "    <tr>\n",
       "      <th>57</th>\n",
       "      <td>WV</td>\n",
       "      <td>15</td>\n",
       "    </tr>\n",
       "    <tr>\n",
       "      <th>61</th>\n",
       "      <td>AR</td>\n",
       "      <td>12</td>\n",
       "    </tr>\n",
       "    <tr>\n",
       "      <th>51</th>\n",
       "      <td>TN</td>\n",
       "      <td>9</td>\n",
       "    </tr>\n",
       "    <tr>\n",
       "      <th>46</th>\n",
       "      <td>VA</td>\n",
       "      <td>9</td>\n",
       "    </tr>\n",
       "    <tr>\n",
       "      <th>48</th>\n",
       "      <td>VA</td>\n",
       "      <td>9</td>\n",
       "    </tr>\n",
       "    <tr>\n",
       "      <th>49</th>\n",
       "      <td>TN</td>\n",
       "      <td>9</td>\n",
       "    </tr>\n",
       "  </tbody>\n",
       "</table>\n",
       "</div>"
      ],
      "text/plain": [
       "   State  V_M\n",
       "56    OH   95\n",
       "60    MS   15\n",
       "59    MS   15\n",
       "58    WV   15\n",
       "57    WV   15\n",
       "61    AR   12\n",
       "51    TN    9\n",
       "46    VA    9\n",
       "48    VA    9\n",
       "49    TN    9"
      ]
     },
     "execution_count": 895,
     "metadata": {},
     "output_type": "execute_result"
    }
   ],
   "source": [
    "#create new_df by dropping columns ['Rate, 'Math, 'Verbal']. Original df unchanged.\n",
    "new_df = df.drop(['Rate', 'Math', 'Verbal'], axis = 1)\n",
    "\n",
    "#use inner join to get States with greater Verbal ability\n",
    "new_df = pd.merge(new_df, df_vm, on='V_M', how='inner')\n",
    "\n",
    "#sort States with those with greater Verbal ability at the top\n",
    "#get the top 10 States.\n",
    "new_df.sort_values('V_M', ascending=False).head(10)\n",
    "\n"
   ]
  },
  {
   "cell_type": "markdown",
   "metadata": {},
   "source": [
    "## 6. Examine summary statistics\n",
    "\n",
    "---\n",
    "\n",
    "Checking the summary statistics for data is an essential step in the EDA process!\n",
    "\n",
    "<img src=\"http://imgur.com/l5NasQj.png\" style=\"float: left; margin: 25px 15px 0px 0px; height: 25px\">\n",
    "\n",
    "### 6.1 Create the correlation matrix of your variables (excluding `State`).\n",
    "\n",
    "What does the correlation matrix tell you?\n"
   ]
  },
  {
   "cell_type": "code",
   "execution_count": 896,
   "metadata": {},
   "outputs": [],
   "source": [
    "df6 = df6.drop('V_M', axis = 1)\n",
    "df6 = df6.drop('State', axis = 1)\n"
   ]
  },
  {
   "cell_type": "code",
   "execution_count": 897,
   "metadata": {},
   "outputs": [
    {
     "data": {
      "text/html": [
       "<div>\n",
       "<style scoped>\n",
       "    .dataframe tbody tr th:only-of-type {\n",
       "        vertical-align: middle;\n",
       "    }\n",
       "\n",
       "    .dataframe tbody tr th {\n",
       "        vertical-align: top;\n",
       "    }\n",
       "\n",
       "    .dataframe thead th {\n",
       "        text-align: right;\n",
       "    }\n",
       "</style>\n",
       "<table border=\"1\" class=\"dataframe\">\n",
       "  <thead>\n",
       "    <tr style=\"text-align: right;\">\n",
       "      <th></th>\n",
       "      <th>Rate</th>\n",
       "      <th>Verbal</th>\n",
       "      <th>Math</th>\n",
       "    </tr>\n",
       "  </thead>\n",
       "  <tbody>\n",
       "    <tr>\n",
       "      <th>Rate</th>\n",
       "      <td>1.000000</td>\n",
       "      <td>-0.886432</td>\n",
       "      <td>-0.773746</td>\n",
       "    </tr>\n",
       "    <tr>\n",
       "      <th>Verbal</th>\n",
       "      <td>-0.886432</td>\n",
       "      <td>1.000000</td>\n",
       "      <td>0.899871</td>\n",
       "    </tr>\n",
       "    <tr>\n",
       "      <th>Math</th>\n",
       "      <td>-0.773746</td>\n",
       "      <td>0.899871</td>\n",
       "      <td>1.000000</td>\n",
       "    </tr>\n",
       "  </tbody>\n",
       "</table>\n",
       "</div>"
      ],
      "text/plain": [
       "            Rate    Verbal      Math\n",
       "Rate    1.000000 -0.886432 -0.773746\n",
       "Verbal -0.886432  1.000000  0.899871\n",
       "Math   -0.773746  0.899871  1.000000"
      ]
     },
     "execution_count": 897,
     "metadata": {},
     "output_type": "execute_result"
    }
   ],
   "source": [
    "df6.corr(method='pearson')"
   ]
  },
  {
   "cell_type": "markdown",
   "metadata": {},
   "source": [
    " The Correlation Matrix informs me that students with high verbal skills are likely to have high math skills as their correlation is high at 0.89"
   ]
  },
  {
   "cell_type": "markdown",
   "metadata": {},
   "source": [
    "<img src=\"http://imgur.com/l5NasQj.png\" style=\"float: left; margin: 25px 15px 0px 0px; height: 25px\">\n",
    "\n",
    "### 6.2 Use pandas'  `.describe()` built-in function on your DataFrame\n",
    "\n",
    "Write up what each of the rows returned by the function indicate."
   ]
  },
  {
   "cell_type": "code",
   "execution_count": 899,
   "metadata": {},
   "outputs": [
    {
     "data": {
      "text/html": [
       "<div>\n",
       "<style scoped>\n",
       "    .dataframe tbody tr th:only-of-type {\n",
       "        vertical-align: middle;\n",
       "    }\n",
       "\n",
       "    .dataframe tbody tr th {\n",
       "        vertical-align: top;\n",
       "    }\n",
       "\n",
       "    .dataframe thead th {\n",
       "        text-align: right;\n",
       "    }\n",
       "</style>\n",
       "<table border=\"1\" class=\"dataframe\">\n",
       "  <thead>\n",
       "    <tr style=\"text-align: right;\">\n",
       "      <th></th>\n",
       "      <th>Rate</th>\n",
       "      <th>Verbal</th>\n",
       "      <th>Math</th>\n",
       "      <th>V_M</th>\n",
       "    </tr>\n",
       "  </thead>\n",
       "  <tbody>\n",
       "    <tr>\n",
       "      <th>count</th>\n",
       "      <td>52.000000</td>\n",
       "      <td>52.000000</td>\n",
       "      <td>52.000000</td>\n",
       "      <td>52.000000</td>\n",
       "    </tr>\n",
       "    <tr>\n",
       "      <th>mean</th>\n",
       "      <td>37.153846</td>\n",
       "      <td>532.019231</td>\n",
       "      <td>531.500000</td>\n",
       "      <td>0.519231</td>\n",
       "    </tr>\n",
       "    <tr>\n",
       "      <th>std</th>\n",
       "      <td>27.301788</td>\n",
       "      <td>33.236225</td>\n",
       "      <td>36.014975</td>\n",
       "      <td>15.729939</td>\n",
       "    </tr>\n",
       "    <tr>\n",
       "      <th>min</th>\n",
       "      <td>4.000000</td>\n",
       "      <td>482.000000</td>\n",
       "      <td>439.000000</td>\n",
       "      <td>-30.000000</td>\n",
       "    </tr>\n",
       "    <tr>\n",
       "      <th>25%</th>\n",
       "      <td>9.000000</td>\n",
       "      <td>501.000000</td>\n",
       "      <td>504.000000</td>\n",
       "      <td>-6.000000</td>\n",
       "    </tr>\n",
       "    <tr>\n",
       "      <th>50%</th>\n",
       "      <td>33.500000</td>\n",
       "      <td>526.500000</td>\n",
       "      <td>521.000000</td>\n",
       "      <td>0.000000</td>\n",
       "    </tr>\n",
       "    <tr>\n",
       "      <th>75%</th>\n",
       "      <td>63.500000</td>\n",
       "      <td>562.000000</td>\n",
       "      <td>555.750000</td>\n",
       "      <td>4.250000</td>\n",
       "    </tr>\n",
       "    <tr>\n",
       "      <th>max</th>\n",
       "      <td>82.000000</td>\n",
       "      <td>593.000000</td>\n",
       "      <td>603.000000</td>\n",
       "      <td>95.000000</td>\n",
       "    </tr>\n",
       "  </tbody>\n",
       "</table>\n",
       "</div>"
      ],
      "text/plain": [
       "            Rate      Verbal        Math        V_M\n",
       "count  52.000000   52.000000   52.000000  52.000000\n",
       "mean   37.153846  532.019231  531.500000   0.519231\n",
       "std    27.301788   33.236225   36.014975  15.729939\n",
       "min     4.000000  482.000000  439.000000 -30.000000\n",
       "25%     9.000000  501.000000  504.000000  -6.000000\n",
       "50%    33.500000  526.500000  521.000000   0.000000\n",
       "75%    63.500000  562.000000  555.750000   4.250000\n",
       "max    82.000000  593.000000  603.000000  95.000000"
      ]
     },
     "execution_count": 899,
     "metadata": {},
     "output_type": "execute_result"
    }
   ],
   "source": [
    "df.describe()"
   ]
  },
  {
   "cell_type": "code",
   "execution_count": 900,
   "metadata": {},
   "outputs": [],
   "source": [
    "# 1) count() is the number of non-null observations\n",
    "# 2) mean() is the Mean of the column values\n",
    "# 3) std is the Standard Deviation of values\n",
    "# 4) min() is the minimum value of the column\n",
    "# 5) 25% the first quartile\n",
    "# 6) 50% the 2nd quartile also known as the Median\n",
    "# 7) 75% the 3rd quartile\n",
    "# 8) max() is the maximum value of the column"
   ]
  },
  {
   "cell_type": "markdown",
   "metadata": {},
   "source": [
    "<img src=\"http://imgur.com/xDpSobf.png\" style=\"float: left; margin: 25px 15px 0px 0px; height: 25px\">\n",
    "\n",
    "### 6.3 Assign and print the _covariance_ matrix for the dataset\n",
    "\n",
    "1. Describe how the covariance matrix is different from the correlation matrix.\n",
    "2. What is the process to convert the covariance into the correlation?\n",
    "3. Why is the correlation matrix preferred to the covariance matrix for examining relationships in your data?"
   ]
  },
  {
   "cell_type": "markdown",
   "metadata": {},
   "source": [
    "### Answer:\n",
    "#### 1. Covariance matrix is different from the correlation matrix\n",
    "The covariance matrix measures the same thing as correlation matrix \n",
    "except for the fact that correlation is normalized covariance with a value\n",
    "that is assured to be between -1 and 1. \n"
   ]
  },
  {
   "cell_type": "markdown",
   "metadata": {},
   "source": [
    "2. To convert the covariance, calculate the standard deviation of each of the 2 variables, multiply them and divide the Covariance by the product of it.\n",
    "\n",
    "CORR(x,y) = COV(x,y)/[std(x) * std(y)]"
   ]
  },
  {
   "cell_type": "markdown",
   "metadata": {},
   "source": [
    "2\n",
    ". Correlation matrix is preferred because it gives a comparison\n",
    "on the normalized scale. It is a quicker way to look at the relationships."
   ]
  },
  {
   "cell_type": "code",
   "execution_count": 901,
   "metadata": {},
   "outputs": [
    {
     "data": {
      "text/html": [
       "<div>\n",
       "<style scoped>\n",
       "    .dataframe tbody tr th:only-of-type {\n",
       "        vertical-align: middle;\n",
       "    }\n",
       "\n",
       "    .dataframe tbody tr th {\n",
       "        vertical-align: top;\n",
       "    }\n",
       "\n",
       "    .dataframe thead th {\n",
       "        text-align: right;\n",
       "    }\n",
       "</style>\n",
       "<table border=\"1\" class=\"dataframe\">\n",
       "  <thead>\n",
       "    <tr style=\"text-align: right;\">\n",
       "      <th></th>\n",
       "      <th>Rate</th>\n",
       "      <th>Verbal</th>\n",
       "      <th>Math</th>\n",
       "      <th>V_M</th>\n",
       "    </tr>\n",
       "  </thead>\n",
       "  <tbody>\n",
       "    <tr>\n",
       "      <th>Rate</th>\n",
       "      <td>745.387632</td>\n",
       "      <td>-804.355958</td>\n",
       "      <td>-760.803922</td>\n",
       "      <td>-43.552036</td>\n",
       "    </tr>\n",
       "    <tr>\n",
       "      <th>Verbal</th>\n",
       "      <td>-804.355958</td>\n",
       "      <td>1104.646682</td>\n",
       "      <td>1077.147059</td>\n",
       "      <td>27.499623</td>\n",
       "    </tr>\n",
       "    <tr>\n",
       "      <th>Math</th>\n",
       "      <td>-760.803922</td>\n",
       "      <td>1077.147059</td>\n",
       "      <td>1297.078431</td>\n",
       "      <td>-219.931373</td>\n",
       "    </tr>\n",
       "    <tr>\n",
       "      <th>V_M</th>\n",
       "      <td>-43.552036</td>\n",
       "      <td>27.499623</td>\n",
       "      <td>-219.931373</td>\n",
       "      <td>247.430995</td>\n",
       "    </tr>\n",
       "  </tbody>\n",
       "</table>\n",
       "</div>"
      ],
      "text/plain": [
       "              Rate       Verbal         Math         V_M\n",
       "Rate    745.387632  -804.355958  -760.803922  -43.552036\n",
       "Verbal -804.355958  1104.646682  1077.147059   27.499623\n",
       "Math   -760.803922  1077.147059  1297.078431 -219.931373\n",
       "V_M     -43.552036    27.499623  -219.931373  247.430995"
      ]
     },
     "execution_count": 901,
     "metadata": {},
     "output_type": "execute_result"
    }
   ],
   "source": [
    "# The covariance matrix\n",
    "df.cov()"
   ]
  },
  {
   "cell_type": "markdown",
   "metadata": {},
   "source": [
    "<img src=\"http://imgur.com/l5NasQj.png\" style=\"float: left; margin: 25px 15px 0px 0px; height: 25px\">\n",
    "\n",
    "## 7. Performing EDA on \"drug use by age\" data.\n",
    "\n",
    "---\n",
    "\n",
    "You will now switch datasets to one with many more variables. This section of the project is more open-ended - use the techniques you practiced above!\n",
    "\n",
    "We'll work with the \"drug-use-by-age.csv\" data, sourced from and described here: https://github.com/fivethirtyeight/data/tree/master/drug-use-by-age.\n",
    "\n",
    "### 7.1\n",
    "\n",
    "Load the data using pandas. Does this data require cleaning? Are variables missing? How will this affect your approach to EDA on the data?"
   ]
  },
  {
   "cell_type": "code",
   "execution_count": 47,
   "metadata": {},
   "outputs": [
    {
     "data": {
      "text/html": [
       "<div>\n",
       "<style scoped>\n",
       "    .dataframe tbody tr th:only-of-type {\n",
       "        vertical-align: middle;\n",
       "    }\n",
       "\n",
       "    .dataframe tbody tr th {\n",
       "        vertical-align: top;\n",
       "    }\n",
       "\n",
       "    .dataframe thead th {\n",
       "        text-align: right;\n",
       "    }\n",
       "</style>\n",
       "<table border=\"1\" class=\"dataframe\">\n",
       "  <thead>\n",
       "    <tr style=\"text-align: right;\">\n",
       "      <th></th>\n",
       "      <th>age</th>\n",
       "      <th>n</th>\n",
       "      <th>alcohol-use</th>\n",
       "      <th>alcohol-frequency</th>\n",
       "      <th>marijuana-use</th>\n",
       "      <th>marijuana-frequency</th>\n",
       "      <th>cocaine-use</th>\n",
       "      <th>cocaine-frequency</th>\n",
       "      <th>crack-use</th>\n",
       "      <th>crack-frequency</th>\n",
       "      <th>...</th>\n",
       "      <th>oxycontin-use</th>\n",
       "      <th>oxycontin-frequency</th>\n",
       "      <th>tranquilizer-use</th>\n",
       "      <th>tranquilizer-frequency</th>\n",
       "      <th>stimulant-use</th>\n",
       "      <th>stimulant-frequency</th>\n",
       "      <th>meth-use</th>\n",
       "      <th>meth-frequency</th>\n",
       "      <th>sedative-use</th>\n",
       "      <th>sedative-frequency</th>\n",
       "    </tr>\n",
       "  </thead>\n",
       "  <tbody>\n",
       "    <tr>\n",
       "      <th>0</th>\n",
       "      <td>12</td>\n",
       "      <td>2798</td>\n",
       "      <td>3.9</td>\n",
       "      <td>3.0</td>\n",
       "      <td>1.1</td>\n",
       "      <td>4.0</td>\n",
       "      <td>0.1</td>\n",
       "      <td>5.0</td>\n",
       "      <td>0.0</td>\n",
       "      <td>-</td>\n",
       "      <td>...</td>\n",
       "      <td>0.1</td>\n",
       "      <td>24.5</td>\n",
       "      <td>0.2</td>\n",
       "      <td>52.0</td>\n",
       "      <td>0.2</td>\n",
       "      <td>2.0</td>\n",
       "      <td>0.0</td>\n",
       "      <td>-</td>\n",
       "      <td>0.2</td>\n",
       "      <td>13.0</td>\n",
       "    </tr>\n",
       "    <tr>\n",
       "      <th>1</th>\n",
       "      <td>13</td>\n",
       "      <td>2757</td>\n",
       "      <td>8.5</td>\n",
       "      <td>6.0</td>\n",
       "      <td>3.4</td>\n",
       "      <td>15.0</td>\n",
       "      <td>0.1</td>\n",
       "      <td>1.0</td>\n",
       "      <td>0.0</td>\n",
       "      <td>3.0</td>\n",
       "      <td>...</td>\n",
       "      <td>0.1</td>\n",
       "      <td>41.0</td>\n",
       "      <td>0.3</td>\n",
       "      <td>25.5</td>\n",
       "      <td>0.3</td>\n",
       "      <td>4.0</td>\n",
       "      <td>0.1</td>\n",
       "      <td>5.0</td>\n",
       "      <td>0.1</td>\n",
       "      <td>19.0</td>\n",
       "    </tr>\n",
       "    <tr>\n",
       "      <th>2</th>\n",
       "      <td>14</td>\n",
       "      <td>2792</td>\n",
       "      <td>18.1</td>\n",
       "      <td>5.0</td>\n",
       "      <td>8.7</td>\n",
       "      <td>24.0</td>\n",
       "      <td>0.1</td>\n",
       "      <td>5.5</td>\n",
       "      <td>0.0</td>\n",
       "      <td>-</td>\n",
       "      <td>...</td>\n",
       "      <td>0.4</td>\n",
       "      <td>4.5</td>\n",
       "      <td>0.9</td>\n",
       "      <td>5.0</td>\n",
       "      <td>0.8</td>\n",
       "      <td>12.0</td>\n",
       "      <td>0.1</td>\n",
       "      <td>24.0</td>\n",
       "      <td>0.2</td>\n",
       "      <td>16.5</td>\n",
       "    </tr>\n",
       "    <tr>\n",
       "      <th>3</th>\n",
       "      <td>15</td>\n",
       "      <td>2956</td>\n",
       "      <td>29.2</td>\n",
       "      <td>6.0</td>\n",
       "      <td>14.5</td>\n",
       "      <td>25.0</td>\n",
       "      <td>0.5</td>\n",
       "      <td>4.0</td>\n",
       "      <td>0.1</td>\n",
       "      <td>9.5</td>\n",
       "      <td>...</td>\n",
       "      <td>0.8</td>\n",
       "      <td>3.0</td>\n",
       "      <td>2.0</td>\n",
       "      <td>4.5</td>\n",
       "      <td>1.5</td>\n",
       "      <td>6.0</td>\n",
       "      <td>0.3</td>\n",
       "      <td>10.5</td>\n",
       "      <td>0.4</td>\n",
       "      <td>30.0</td>\n",
       "    </tr>\n",
       "    <tr>\n",
       "      <th>4</th>\n",
       "      <td>16</td>\n",
       "      <td>3058</td>\n",
       "      <td>40.1</td>\n",
       "      <td>10.0</td>\n",
       "      <td>22.5</td>\n",
       "      <td>30.0</td>\n",
       "      <td>1.0</td>\n",
       "      <td>7.0</td>\n",
       "      <td>0.0</td>\n",
       "      <td>1.0</td>\n",
       "      <td>...</td>\n",
       "      <td>1.1</td>\n",
       "      <td>4.0</td>\n",
       "      <td>2.4</td>\n",
       "      <td>11.0</td>\n",
       "      <td>1.8</td>\n",
       "      <td>9.5</td>\n",
       "      <td>0.3</td>\n",
       "      <td>36.0</td>\n",
       "      <td>0.2</td>\n",
       "      <td>3.0</td>\n",
       "    </tr>\n",
       "    <tr>\n",
       "      <th>5</th>\n",
       "      <td>17</td>\n",
       "      <td>3038</td>\n",
       "      <td>49.3</td>\n",
       "      <td>13.0</td>\n",
       "      <td>28.0</td>\n",
       "      <td>36.0</td>\n",
       "      <td>2.0</td>\n",
       "      <td>5.0</td>\n",
       "      <td>0.1</td>\n",
       "      <td>21.0</td>\n",
       "      <td>...</td>\n",
       "      <td>1.4</td>\n",
       "      <td>6.0</td>\n",
       "      <td>3.5</td>\n",
       "      <td>7.0</td>\n",
       "      <td>2.8</td>\n",
       "      <td>9.0</td>\n",
       "      <td>0.6</td>\n",
       "      <td>48.0</td>\n",
       "      <td>0.5</td>\n",
       "      <td>6.5</td>\n",
       "    </tr>\n",
       "    <tr>\n",
       "      <th>6</th>\n",
       "      <td>18</td>\n",
       "      <td>2469</td>\n",
       "      <td>58.7</td>\n",
       "      <td>24.0</td>\n",
       "      <td>33.7</td>\n",
       "      <td>52.0</td>\n",
       "      <td>3.2</td>\n",
       "      <td>5.0</td>\n",
       "      <td>0.4</td>\n",
       "      <td>10.0</td>\n",
       "      <td>...</td>\n",
       "      <td>1.7</td>\n",
       "      <td>7.0</td>\n",
       "      <td>4.9</td>\n",
       "      <td>12.0</td>\n",
       "      <td>3.0</td>\n",
       "      <td>8.0</td>\n",
       "      <td>0.5</td>\n",
       "      <td>12.0</td>\n",
       "      <td>0.4</td>\n",
       "      <td>10.0</td>\n",
       "    </tr>\n",
       "    <tr>\n",
       "      <th>7</th>\n",
       "      <td>19</td>\n",
       "      <td>2223</td>\n",
       "      <td>64.6</td>\n",
       "      <td>36.0</td>\n",
       "      <td>33.4</td>\n",
       "      <td>60.0</td>\n",
       "      <td>4.1</td>\n",
       "      <td>5.5</td>\n",
       "      <td>0.5</td>\n",
       "      <td>2.0</td>\n",
       "      <td>...</td>\n",
       "      <td>1.5</td>\n",
       "      <td>7.5</td>\n",
       "      <td>4.2</td>\n",
       "      <td>4.5</td>\n",
       "      <td>3.3</td>\n",
       "      <td>6.0</td>\n",
       "      <td>0.4</td>\n",
       "      <td>105.0</td>\n",
       "      <td>0.3</td>\n",
       "      <td>6.0</td>\n",
       "    </tr>\n",
       "    <tr>\n",
       "      <th>8</th>\n",
       "      <td>20</td>\n",
       "      <td>2271</td>\n",
       "      <td>69.7</td>\n",
       "      <td>48.0</td>\n",
       "      <td>34.0</td>\n",
       "      <td>60.0</td>\n",
       "      <td>4.9</td>\n",
       "      <td>8.0</td>\n",
       "      <td>0.6</td>\n",
       "      <td>5.0</td>\n",
       "      <td>...</td>\n",
       "      <td>1.7</td>\n",
       "      <td>12.0</td>\n",
       "      <td>5.4</td>\n",
       "      <td>10.0</td>\n",
       "      <td>4.0</td>\n",
       "      <td>12.0</td>\n",
       "      <td>0.9</td>\n",
       "      <td>12.0</td>\n",
       "      <td>0.5</td>\n",
       "      <td>4.0</td>\n",
       "    </tr>\n",
       "    <tr>\n",
       "      <th>9</th>\n",
       "      <td>21</td>\n",
       "      <td>2354</td>\n",
       "      <td>83.2</td>\n",
       "      <td>52.0</td>\n",
       "      <td>33.0</td>\n",
       "      <td>52.0</td>\n",
       "      <td>4.8</td>\n",
       "      <td>5.0</td>\n",
       "      <td>0.5</td>\n",
       "      <td>17.0</td>\n",
       "      <td>...</td>\n",
       "      <td>1.3</td>\n",
       "      <td>13.5</td>\n",
       "      <td>3.9</td>\n",
       "      <td>7.0</td>\n",
       "      <td>4.1</td>\n",
       "      <td>10.0</td>\n",
       "      <td>0.6</td>\n",
       "      <td>2.0</td>\n",
       "      <td>0.3</td>\n",
       "      <td>9.0</td>\n",
       "    </tr>\n",
       "    <tr>\n",
       "      <th>10</th>\n",
       "      <td>22-23</td>\n",
       "      <td>4707</td>\n",
       "      <td>84.2</td>\n",
       "      <td>52.0</td>\n",
       "      <td>28.4</td>\n",
       "      <td>52.0</td>\n",
       "      <td>4.5</td>\n",
       "      <td>5.0</td>\n",
       "      <td>0.5</td>\n",
       "      <td>5.0</td>\n",
       "      <td>...</td>\n",
       "      <td>1.7</td>\n",
       "      <td>17.5</td>\n",
       "      <td>4.4</td>\n",
       "      <td>12.0</td>\n",
       "      <td>3.6</td>\n",
       "      <td>10.0</td>\n",
       "      <td>0.6</td>\n",
       "      <td>46.0</td>\n",
       "      <td>0.2</td>\n",
       "      <td>52.0</td>\n",
       "    </tr>\n",
       "    <tr>\n",
       "      <th>11</th>\n",
       "      <td>24-25</td>\n",
       "      <td>4591</td>\n",
       "      <td>83.1</td>\n",
       "      <td>52.0</td>\n",
       "      <td>24.9</td>\n",
       "      <td>60.0</td>\n",
       "      <td>4.0</td>\n",
       "      <td>6.0</td>\n",
       "      <td>0.5</td>\n",
       "      <td>6.0</td>\n",
       "      <td>...</td>\n",
       "      <td>1.3</td>\n",
       "      <td>20.0</td>\n",
       "      <td>4.3</td>\n",
       "      <td>10.0</td>\n",
       "      <td>2.6</td>\n",
       "      <td>10.0</td>\n",
       "      <td>0.7</td>\n",
       "      <td>21.0</td>\n",
       "      <td>0.2</td>\n",
       "      <td>17.5</td>\n",
       "    </tr>\n",
       "    <tr>\n",
       "      <th>12</th>\n",
       "      <td>26-29</td>\n",
       "      <td>2628</td>\n",
       "      <td>80.7</td>\n",
       "      <td>52.0</td>\n",
       "      <td>20.8</td>\n",
       "      <td>52.0</td>\n",
       "      <td>3.2</td>\n",
       "      <td>5.0</td>\n",
       "      <td>0.4</td>\n",
       "      <td>6.0</td>\n",
       "      <td>...</td>\n",
       "      <td>1.2</td>\n",
       "      <td>13.5</td>\n",
       "      <td>4.2</td>\n",
       "      <td>10.0</td>\n",
       "      <td>2.3</td>\n",
       "      <td>7.0</td>\n",
       "      <td>0.6</td>\n",
       "      <td>30.0</td>\n",
       "      <td>0.4</td>\n",
       "      <td>4.0</td>\n",
       "    </tr>\n",
       "    <tr>\n",
       "      <th>13</th>\n",
       "      <td>30-34</td>\n",
       "      <td>2864</td>\n",
       "      <td>77.5</td>\n",
       "      <td>52.0</td>\n",
       "      <td>16.4</td>\n",
       "      <td>72.0</td>\n",
       "      <td>2.1</td>\n",
       "      <td>8.0</td>\n",
       "      <td>0.5</td>\n",
       "      <td>15.0</td>\n",
       "      <td>...</td>\n",
       "      <td>0.9</td>\n",
       "      <td>46.0</td>\n",
       "      <td>3.6</td>\n",
       "      <td>8.0</td>\n",
       "      <td>1.4</td>\n",
       "      <td>12.0</td>\n",
       "      <td>0.4</td>\n",
       "      <td>54.0</td>\n",
       "      <td>0.4</td>\n",
       "      <td>10.0</td>\n",
       "    </tr>\n",
       "    <tr>\n",
       "      <th>14</th>\n",
       "      <td>35-49</td>\n",
       "      <td>7391</td>\n",
       "      <td>75.0</td>\n",
       "      <td>52.0</td>\n",
       "      <td>10.4</td>\n",
       "      <td>48.0</td>\n",
       "      <td>1.5</td>\n",
       "      <td>15.0</td>\n",
       "      <td>0.5</td>\n",
       "      <td>48.0</td>\n",
       "      <td>...</td>\n",
       "      <td>0.3</td>\n",
       "      <td>12.0</td>\n",
       "      <td>1.9</td>\n",
       "      <td>6.0</td>\n",
       "      <td>0.6</td>\n",
       "      <td>24.0</td>\n",
       "      <td>0.2</td>\n",
       "      <td>104.0</td>\n",
       "      <td>0.3</td>\n",
       "      <td>10.0</td>\n",
       "    </tr>\n",
       "    <tr>\n",
       "      <th>15</th>\n",
       "      <td>50-64</td>\n",
       "      <td>3923</td>\n",
       "      <td>67.2</td>\n",
       "      <td>52.0</td>\n",
       "      <td>7.3</td>\n",
       "      <td>52.0</td>\n",
       "      <td>0.9</td>\n",
       "      <td>36.0</td>\n",
       "      <td>0.4</td>\n",
       "      <td>62.0</td>\n",
       "      <td>...</td>\n",
       "      <td>0.4</td>\n",
       "      <td>5.0</td>\n",
       "      <td>1.4</td>\n",
       "      <td>10.0</td>\n",
       "      <td>0.3</td>\n",
       "      <td>24.0</td>\n",
       "      <td>0.2</td>\n",
       "      <td>30.0</td>\n",
       "      <td>0.2</td>\n",
       "      <td>104.0</td>\n",
       "    </tr>\n",
       "    <tr>\n",
       "      <th>16</th>\n",
       "      <td>65+</td>\n",
       "      <td>2448</td>\n",
       "      <td>49.3</td>\n",
       "      <td>52.0</td>\n",
       "      <td>1.2</td>\n",
       "      <td>36.0</td>\n",
       "      <td>0.0</td>\n",
       "      <td>-</td>\n",
       "      <td>0.0</td>\n",
       "      <td>-</td>\n",
       "      <td>...</td>\n",
       "      <td>0.0</td>\n",
       "      <td>-</td>\n",
       "      <td>0.2</td>\n",
       "      <td>5.0</td>\n",
       "      <td>0.0</td>\n",
       "      <td>364.0</td>\n",
       "      <td>0.0</td>\n",
       "      <td>-</td>\n",
       "      <td>0.0</td>\n",
       "      <td>15.0</td>\n",
       "    </tr>\n",
       "  </tbody>\n",
       "</table>\n",
       "<p>17 rows × 28 columns</p>\n",
       "</div>"
      ],
      "text/plain": [
       "      age     n  alcohol-use  alcohol-frequency  marijuana-use  \\\n",
       "0      12  2798          3.9                3.0            1.1   \n",
       "1      13  2757          8.5                6.0            3.4   \n",
       "2      14  2792         18.1                5.0            8.7   \n",
       "3      15  2956         29.2                6.0           14.5   \n",
       "4      16  3058         40.1               10.0           22.5   \n",
       "5      17  3038         49.3               13.0           28.0   \n",
       "6      18  2469         58.7               24.0           33.7   \n",
       "7      19  2223         64.6               36.0           33.4   \n",
       "8      20  2271         69.7               48.0           34.0   \n",
       "9      21  2354         83.2               52.0           33.0   \n",
       "10  22-23  4707         84.2               52.0           28.4   \n",
       "11  24-25  4591         83.1               52.0           24.9   \n",
       "12  26-29  2628         80.7               52.0           20.8   \n",
       "13  30-34  2864         77.5               52.0           16.4   \n",
       "14  35-49  7391         75.0               52.0           10.4   \n",
       "15  50-64  3923         67.2               52.0            7.3   \n",
       "16    65+  2448         49.3               52.0            1.2   \n",
       "\n",
       "    marijuana-frequency  cocaine-use cocaine-frequency  crack-use  \\\n",
       "0                   4.0          0.1               5.0        0.0   \n",
       "1                  15.0          0.1               1.0        0.0   \n",
       "2                  24.0          0.1               5.5        0.0   \n",
       "3                  25.0          0.5               4.0        0.1   \n",
       "4                  30.0          1.0               7.0        0.0   \n",
       "5                  36.0          2.0               5.0        0.1   \n",
       "6                  52.0          3.2               5.0        0.4   \n",
       "7                  60.0          4.1               5.5        0.5   \n",
       "8                  60.0          4.9               8.0        0.6   \n",
       "9                  52.0          4.8               5.0        0.5   \n",
       "10                 52.0          4.5               5.0        0.5   \n",
       "11                 60.0          4.0               6.0        0.5   \n",
       "12                 52.0          3.2               5.0        0.4   \n",
       "13                 72.0          2.1               8.0        0.5   \n",
       "14                 48.0          1.5              15.0        0.5   \n",
       "15                 52.0          0.9              36.0        0.4   \n",
       "16                 36.0          0.0                 -        0.0   \n",
       "\n",
       "   crack-frequency        ...          oxycontin-use oxycontin-frequency  \\\n",
       "0                -        ...                    0.1                24.5   \n",
       "1              3.0        ...                    0.1                41.0   \n",
       "2                -        ...                    0.4                 4.5   \n",
       "3              9.5        ...                    0.8                 3.0   \n",
       "4              1.0        ...                    1.1                 4.0   \n",
       "5             21.0        ...                    1.4                 6.0   \n",
       "6             10.0        ...                    1.7                 7.0   \n",
       "7              2.0        ...                    1.5                 7.5   \n",
       "8              5.0        ...                    1.7                12.0   \n",
       "9             17.0        ...                    1.3                13.5   \n",
       "10             5.0        ...                    1.7                17.5   \n",
       "11             6.0        ...                    1.3                20.0   \n",
       "12             6.0        ...                    1.2                13.5   \n",
       "13            15.0        ...                    0.9                46.0   \n",
       "14            48.0        ...                    0.3                12.0   \n",
       "15            62.0        ...                    0.4                 5.0   \n",
       "16               -        ...                    0.0                   -   \n",
       "\n",
       "    tranquilizer-use  tranquilizer-frequency  stimulant-use  \\\n",
       "0                0.2                    52.0            0.2   \n",
       "1                0.3                    25.5            0.3   \n",
       "2                0.9                     5.0            0.8   \n",
       "3                2.0                     4.5            1.5   \n",
       "4                2.4                    11.0            1.8   \n",
       "5                3.5                     7.0            2.8   \n",
       "6                4.9                    12.0            3.0   \n",
       "7                4.2                     4.5            3.3   \n",
       "8                5.4                    10.0            4.0   \n",
       "9                3.9                     7.0            4.1   \n",
       "10               4.4                    12.0            3.6   \n",
       "11               4.3                    10.0            2.6   \n",
       "12               4.2                    10.0            2.3   \n",
       "13               3.6                     8.0            1.4   \n",
       "14               1.9                     6.0            0.6   \n",
       "15               1.4                    10.0            0.3   \n",
       "16               0.2                     5.0            0.0   \n",
       "\n",
       "   stimulant-frequency  meth-use  meth-frequency  sedative-use  \\\n",
       "0                  2.0       0.0               -           0.2   \n",
       "1                  4.0       0.1             5.0           0.1   \n",
       "2                 12.0       0.1            24.0           0.2   \n",
       "3                  6.0       0.3            10.5           0.4   \n",
       "4                  9.5       0.3            36.0           0.2   \n",
       "5                  9.0       0.6            48.0           0.5   \n",
       "6                  8.0       0.5            12.0           0.4   \n",
       "7                  6.0       0.4           105.0           0.3   \n",
       "8                 12.0       0.9            12.0           0.5   \n",
       "9                 10.0       0.6             2.0           0.3   \n",
       "10                10.0       0.6            46.0           0.2   \n",
       "11                10.0       0.7            21.0           0.2   \n",
       "12                 7.0       0.6            30.0           0.4   \n",
       "13                12.0       0.4            54.0           0.4   \n",
       "14                24.0       0.2           104.0           0.3   \n",
       "15                24.0       0.2            30.0           0.2   \n",
       "16               364.0       0.0               -           0.0   \n",
       "\n",
       "   sedative-frequency  \n",
       "0                13.0  \n",
       "1                19.0  \n",
       "2                16.5  \n",
       "3                30.0  \n",
       "4                 3.0  \n",
       "5                 6.5  \n",
       "6                10.0  \n",
       "7                 6.0  \n",
       "8                 4.0  \n",
       "9                 9.0  \n",
       "10               52.0  \n",
       "11               17.5  \n",
       "12                4.0  \n",
       "13               10.0  \n",
       "14               10.0  \n",
       "15              104.0  \n",
       "16               15.0  \n",
       "\n",
       "[17 rows x 28 columns]"
      ]
     },
     "execution_count": 47,
     "metadata": {},
     "output_type": "execute_result"
    }
   ],
   "source": [
    "drug_df = pd.read_csv('./drug-use-by-age.csv')\n",
    "drug_df.head(17)"
   ]
  },
  {
   "cell_type": "code",
   "execution_count": 49,
   "metadata": {},
   "outputs": [
    {
     "data": {
      "text/html": [
       "<div>\n",
       "<style scoped>\n",
       "    .dataframe tbody tr th:only-of-type {\n",
       "        vertical-align: middle;\n",
       "    }\n",
       "\n",
       "    .dataframe tbody tr th {\n",
       "        vertical-align: top;\n",
       "    }\n",
       "\n",
       "    .dataframe thead th {\n",
       "        text-align: right;\n",
       "    }\n",
       "</style>\n",
       "<table border=\"1\" class=\"dataframe\">\n",
       "  <thead>\n",
       "    <tr style=\"text-align: right;\">\n",
       "      <th></th>\n",
       "      <th>age</th>\n",
       "      <th>n</th>\n",
       "      <th>alcohol_use</th>\n",
       "      <th>alcohol_frequency</th>\n",
       "      <th>marijuana_use</th>\n",
       "      <th>marijuana_frequency</th>\n",
       "      <th>cocaine_use</th>\n",
       "      <th>cocaine_frequency</th>\n",
       "      <th>crack_use</th>\n",
       "      <th>crack_frequency</th>\n",
       "      <th>...</th>\n",
       "      <th>oxycontin_use</th>\n",
       "      <th>oxycontin_frequency</th>\n",
       "      <th>tranquilizer_use</th>\n",
       "      <th>tranquilizer_frequency</th>\n",
       "      <th>stimulant_use</th>\n",
       "      <th>stimulant_frequency</th>\n",
       "      <th>meth_use</th>\n",
       "      <th>meth_frequency</th>\n",
       "      <th>sedative_use</th>\n",
       "      <th>sedative_frequency</th>\n",
       "    </tr>\n",
       "  </thead>\n",
       "  <tbody>\n",
       "    <tr>\n",
       "      <th>0</th>\n",
       "      <td>12</td>\n",
       "      <td>2798</td>\n",
       "      <td>3.9</td>\n",
       "      <td>3.0</td>\n",
       "      <td>1.1</td>\n",
       "      <td>4.0</td>\n",
       "      <td>0.1</td>\n",
       "      <td>5.0</td>\n",
       "      <td>0.0</td>\n",
       "      <td>-</td>\n",
       "      <td>...</td>\n",
       "      <td>0.1</td>\n",
       "      <td>24.5</td>\n",
       "      <td>0.2</td>\n",
       "      <td>52.0</td>\n",
       "      <td>0.2</td>\n",
       "      <td>2.0</td>\n",
       "      <td>0.0</td>\n",
       "      <td>-</td>\n",
       "      <td>0.2</td>\n",
       "      <td>13.0</td>\n",
       "    </tr>\n",
       "    <tr>\n",
       "      <th>1</th>\n",
       "      <td>13</td>\n",
       "      <td>2757</td>\n",
       "      <td>8.5</td>\n",
       "      <td>6.0</td>\n",
       "      <td>3.4</td>\n",
       "      <td>15.0</td>\n",
       "      <td>0.1</td>\n",
       "      <td>1.0</td>\n",
       "      <td>0.0</td>\n",
       "      <td>3.0</td>\n",
       "      <td>...</td>\n",
       "      <td>0.1</td>\n",
       "      <td>41.0</td>\n",
       "      <td>0.3</td>\n",
       "      <td>25.5</td>\n",
       "      <td>0.3</td>\n",
       "      <td>4.0</td>\n",
       "      <td>0.1</td>\n",
       "      <td>5.0</td>\n",
       "      <td>0.1</td>\n",
       "      <td>19.0</td>\n",
       "    </tr>\n",
       "    <tr>\n",
       "      <th>2</th>\n",
       "      <td>14</td>\n",
       "      <td>2792</td>\n",
       "      <td>18.1</td>\n",
       "      <td>5.0</td>\n",
       "      <td>8.7</td>\n",
       "      <td>24.0</td>\n",
       "      <td>0.1</td>\n",
       "      <td>5.5</td>\n",
       "      <td>0.0</td>\n",
       "      <td>-</td>\n",
       "      <td>...</td>\n",
       "      <td>0.4</td>\n",
       "      <td>4.5</td>\n",
       "      <td>0.9</td>\n",
       "      <td>5.0</td>\n",
       "      <td>0.8</td>\n",
       "      <td>12.0</td>\n",
       "      <td>0.1</td>\n",
       "      <td>24.0</td>\n",
       "      <td>0.2</td>\n",
       "      <td>16.5</td>\n",
       "    </tr>\n",
       "    <tr>\n",
       "      <th>3</th>\n",
       "      <td>15</td>\n",
       "      <td>2956</td>\n",
       "      <td>29.2</td>\n",
       "      <td>6.0</td>\n",
       "      <td>14.5</td>\n",
       "      <td>25.0</td>\n",
       "      <td>0.5</td>\n",
       "      <td>4.0</td>\n",
       "      <td>0.1</td>\n",
       "      <td>9.5</td>\n",
       "      <td>...</td>\n",
       "      <td>0.8</td>\n",
       "      <td>3.0</td>\n",
       "      <td>2.0</td>\n",
       "      <td>4.5</td>\n",
       "      <td>1.5</td>\n",
       "      <td>6.0</td>\n",
       "      <td>0.3</td>\n",
       "      <td>10.5</td>\n",
       "      <td>0.4</td>\n",
       "      <td>30.0</td>\n",
       "    </tr>\n",
       "    <tr>\n",
       "      <th>4</th>\n",
       "      <td>16</td>\n",
       "      <td>3058</td>\n",
       "      <td>40.1</td>\n",
       "      <td>10.0</td>\n",
       "      <td>22.5</td>\n",
       "      <td>30.0</td>\n",
       "      <td>1.0</td>\n",
       "      <td>7.0</td>\n",
       "      <td>0.0</td>\n",
       "      <td>1.0</td>\n",
       "      <td>...</td>\n",
       "      <td>1.1</td>\n",
       "      <td>4.0</td>\n",
       "      <td>2.4</td>\n",
       "      <td>11.0</td>\n",
       "      <td>1.8</td>\n",
       "      <td>9.5</td>\n",
       "      <td>0.3</td>\n",
       "      <td>36.0</td>\n",
       "      <td>0.2</td>\n",
       "      <td>3.0</td>\n",
       "    </tr>\n",
       "  </tbody>\n",
       "</table>\n",
       "<p>5 rows × 28 columns</p>\n",
       "</div>"
      ],
      "text/plain": [
       "  age     n  alcohol_use  alcohol_frequency  marijuana_use  \\\n",
       "0  12  2798          3.9                3.0            1.1   \n",
       "1  13  2757          8.5                6.0            3.4   \n",
       "2  14  2792         18.1                5.0            8.7   \n",
       "3  15  2956         29.2                6.0           14.5   \n",
       "4  16  3058         40.1               10.0           22.5   \n",
       "\n",
       "   marijuana_frequency  cocaine_use cocaine_frequency  crack_use  \\\n",
       "0                  4.0          0.1               5.0        0.0   \n",
       "1                 15.0          0.1               1.0        0.0   \n",
       "2                 24.0          0.1               5.5        0.0   \n",
       "3                 25.0          0.5               4.0        0.1   \n",
       "4                 30.0          1.0               7.0        0.0   \n",
       "\n",
       "  crack_frequency        ...          oxycontin_use oxycontin_frequency  \\\n",
       "0               -        ...                    0.1                24.5   \n",
       "1             3.0        ...                    0.1                41.0   \n",
       "2               -        ...                    0.4                 4.5   \n",
       "3             9.5        ...                    0.8                 3.0   \n",
       "4             1.0        ...                    1.1                 4.0   \n",
       "\n",
       "   tranquilizer_use  tranquilizer_frequency  stimulant_use  \\\n",
       "0               0.2                    52.0            0.2   \n",
       "1               0.3                    25.5            0.3   \n",
       "2               0.9                     5.0            0.8   \n",
       "3               2.0                     4.5            1.5   \n",
       "4               2.4                    11.0            1.8   \n",
       "\n",
       "  stimulant_frequency  meth_use  meth_frequency  sedative_use  \\\n",
       "0                 2.0       0.0               -           0.2   \n",
       "1                 4.0       0.1             5.0           0.1   \n",
       "2                12.0       0.1            24.0           0.2   \n",
       "3                 6.0       0.3            10.5           0.4   \n",
       "4                 9.5       0.3            36.0           0.2   \n",
       "\n",
       "  sedative_frequency  \n",
       "0               13.0  \n",
       "1               19.0  \n",
       "2               16.5  \n",
       "3               30.0  \n",
       "4                3.0  \n",
       "\n",
       "[5 rows x 28 columns]"
      ]
     },
     "execution_count": 49,
     "metadata": {},
     "output_type": "execute_result"
    }
   ],
   "source": [
    "#clean up the column names\n",
    "drug_df.columns = drug_df.columns.str.replace('-', '_')\n",
    "drug_df.head()"
   ]
  },
  {
   "cell_type": "code",
   "execution_count": 50,
   "metadata": {},
   "outputs": [
    {
     "data": {
      "text/plain": [
       "age                         object\n",
       "n                            int64\n",
       "alcohol_use                float64\n",
       "alcohol_frequency          float64\n",
       "marijuana_use              float64\n",
       "marijuana_frequency        float64\n",
       "cocaine_use                float64\n",
       "cocaine_frequency           object\n",
       "crack_use                  float64\n",
       "crack_frequency             object\n",
       "heroin_use                 float64\n",
       "heroin_frequency            object\n",
       "hallucinogen_use           float64\n",
       "hallucinogen_frequency     float64\n",
       "inhalant_use               float64\n",
       "inhalant_frequency          object\n",
       "pain_releiver_use          float64\n",
       "pain_releiver_frequency    float64\n",
       "oxycontin_use              float64\n",
       "oxycontin_frequency         object\n",
       "tranquilizer_use           float64\n",
       "tranquilizer_frequency     float64\n",
       "stimulant_use              float64\n",
       "stimulant_frequency        float64\n",
       "meth_use                   float64\n",
       "meth_frequency              object\n",
       "sedative_use               float64\n",
       "sedative_frequency         float64\n",
       "dtype: object"
      ]
     },
     "execution_count": 50,
     "metadata": {},
     "output_type": "execute_result"
    }
   ],
   "source": [
    "drug_df.dtypes\n",
    "# Cleaning up the dtypes to change some object to float"
   ]
  },
  {
   "cell_type": "code",
   "execution_count": 51,
   "metadata": {},
   "outputs": [
    {
     "data": {
      "text/plain": [
       "<bound method Series.unique of 0      5.0\n",
       "1      1.0\n",
       "2      5.5\n",
       "3      4.0\n",
       "4      7.0\n",
       "5      5.0\n",
       "6      5.0\n",
       "7      5.5\n",
       "8      8.0\n",
       "9      5.0\n",
       "10     5.0\n",
       "11     6.0\n",
       "12     5.0\n",
       "13     8.0\n",
       "14    15.0\n",
       "15    36.0\n",
       "16       -\n",
       "Name: cocaine_frequency, dtype: object>"
      ]
     },
     "execution_count": 51,
     "metadata": {},
     "output_type": "execute_result"
    }
   ],
   "source": [
    "drug_df['cocaine_frequency'].unique"
   ]
  },
  {
   "cell_type": "code",
   "execution_count": 52,
   "metadata": {},
   "outputs": [
    {
     "data": {
      "text/plain": [
       "<bound method Series.unique of 0      5.0\n",
       "1      1.0\n",
       "2      5.5\n",
       "3      4.0\n",
       "4      7.0\n",
       "5      5.0\n",
       "6      5.0\n",
       "7      5.5\n",
       "8      8.0\n",
       "9      5.0\n",
       "10     5.0\n",
       "11     6.0\n",
       "12     5.0\n",
       "13     8.0\n",
       "14    15.0\n",
       "15    36.0\n",
       "16     0.0\n",
       "Name: cocaine_frequency, dtype: float64>"
      ]
     },
     "execution_count": 52,
     "metadata": {},
     "output_type": "execute_result"
    }
   ],
   "source": [
    "#Cleaning the cocaine_frequency column\n",
    "drug_df[drug_df['cocaine_frequency']=='-']\n",
    "drug_df.loc[drug_df[drug_df['cocaine_frequency']=='-'].index, 'cocaine_frequency'] = 0.0\n",
    "drug_df['cocaine_frequency'] = drug_df['cocaine_frequency'].astype(float)\n",
    "drug_df.cocaine_frequency.unique"
   ]
  },
  {
   "cell_type": "code",
   "execution_count": 53,
   "metadata": {},
   "outputs": [
    {
     "data": {
      "text/plain": [
       "<bound method Series.unique of 0      0.0\n",
       "1      3.0\n",
       "2      0.0\n",
       "3      9.5\n",
       "4      1.0\n",
       "5     21.0\n",
       "6     10.0\n",
       "7      2.0\n",
       "8      5.0\n",
       "9     17.0\n",
       "10     5.0\n",
       "11     6.0\n",
       "12     6.0\n",
       "13    15.0\n",
       "14    48.0\n",
       "15    62.0\n",
       "16     0.0\n",
       "Name: crack_frequency, dtype: float64>"
      ]
     },
     "execution_count": 53,
     "metadata": {},
     "output_type": "execute_result"
    }
   ],
   "source": [
    "#Cleaning the crack_frequency column\n",
    "drug_df[drug_df['crack_frequency']=='-']\n",
    "drug_df.loc[drug_df[drug_df['crack_frequency']=='-'].index, 'crack_frequency'] = 0.0\n",
    "drug_df['crack_frequency'] = drug_df['crack_frequency'].astype(float)\n",
    "drug_df.crack_frequency.unique"
   ]
  },
  {
   "cell_type": "code",
   "execution_count": 54,
   "metadata": {},
   "outputs": [
    {
     "data": {
      "text/plain": [
       "<bound method Series.unique of 0      35.5\n",
       "1       0.0\n",
       "2       2.0\n",
       "3       1.0\n",
       "4      66.5\n",
       "5      64.0\n",
       "6      46.0\n",
       "7     180.0\n",
       "8      45.0\n",
       "9      30.0\n",
       "10     57.5\n",
       "11     88.0\n",
       "12     50.0\n",
       "13     66.0\n",
       "14    280.0\n",
       "15     41.0\n",
       "16    120.0\n",
       "Name: heroin_frequency, dtype: float64>"
      ]
     },
     "execution_count": 54,
     "metadata": {},
     "output_type": "execute_result"
    }
   ],
   "source": [
    "#Cleaning the heroin_frequency column\n",
    "drug_df[drug_df['heroin_frequency']=='-']\n",
    "drug_df.loc[drug_df[drug_df['heroin_frequency']=='-'].index, 'heroin_frequency'] = 0.0\n",
    "drug_df['heroin_frequency'] = drug_df['heroin_frequency'].astype(float)\n",
    "drug_df.heroin_frequency.unique"
   ]
  },
  {
   "cell_type": "code",
   "execution_count": 55,
   "metadata": {},
   "outputs": [
    {
     "data": {
      "text/plain": [
       "<bound method Series.unique of 0     19.0\n",
       "1     12.0\n",
       "2      5.0\n",
       "3      5.5\n",
       "4      3.0\n",
       "5      4.0\n",
       "6      4.0\n",
       "7      3.0\n",
       "8      4.0\n",
       "9      2.0\n",
       "10     4.0\n",
       "11     2.0\n",
       "12     4.0\n",
       "13     3.5\n",
       "14    10.0\n",
       "15    13.5\n",
       "16     0.0\n",
       "Name: inhalant_frequency, dtype: float64>"
      ]
     },
     "execution_count": 55,
     "metadata": {},
     "output_type": "execute_result"
    }
   ],
   "source": [
    "#Cleaning the inhalant_frequency  column\n",
    "drug_df[drug_df['inhalant_frequency']=='-']\n",
    "drug_df.loc[drug_df[drug_df['inhalant_frequency']=='-'].index, 'inhalant_frequency'] = 0.0\n",
    "drug_df['inhalant_frequency'] = drug_df['inhalant_frequency'].astype(float)\n",
    "drug_df.inhalant_frequency.unique"
   ]
  },
  {
   "cell_type": "code",
   "execution_count": 56,
   "metadata": {},
   "outputs": [
    {
     "data": {
      "text/plain": [
       "<bound method Series.unique of 0     24.5\n",
       "1     41.0\n",
       "2      4.5\n",
       "3      3.0\n",
       "4      4.0\n",
       "5      6.0\n",
       "6      7.0\n",
       "7      7.5\n",
       "8     12.0\n",
       "9     13.5\n",
       "10    17.5\n",
       "11    20.0\n",
       "12    13.5\n",
       "13    46.0\n",
       "14    12.0\n",
       "15     5.0\n",
       "16     0.0\n",
       "Name: oxycontin_frequency, dtype: float64>"
      ]
     },
     "execution_count": 56,
     "metadata": {},
     "output_type": "execute_result"
    }
   ],
   "source": [
    "#Cleaning the oxycontin_frequency  column\n",
    "drug_df[drug_df['oxycontin_frequency']=='-']\n",
    "drug_df.loc[drug_df[drug_df['oxycontin_frequency']=='-'].index, 'oxycontin_frequency'] = 0.0\n",
    "drug_df['oxycontin_frequency'] = drug_df['oxycontin_frequency'].astype(float)\n",
    "drug_df.oxycontin_frequency.unique"
   ]
  },
  {
   "cell_type": "code",
   "execution_count": 57,
   "metadata": {},
   "outputs": [
    {
     "data": {
      "text/plain": [
       "<bound method Series.unique of 0       0.0\n",
       "1       5.0\n",
       "2      24.0\n",
       "3      10.5\n",
       "4      36.0\n",
       "5      48.0\n",
       "6      12.0\n",
       "7     105.0\n",
       "8      12.0\n",
       "9       2.0\n",
       "10     46.0\n",
       "11     21.0\n",
       "12     30.0\n",
       "13     54.0\n",
       "14    104.0\n",
       "15     30.0\n",
       "16      0.0\n",
       "Name: meth_frequency, dtype: float64>"
      ]
     },
     "execution_count": 57,
     "metadata": {},
     "output_type": "execute_result"
    }
   ],
   "source": [
    "#Cleaning the meth_frequency  column\n",
    "drug_df[drug_df['meth_frequency']=='-']\n",
    "drug_df.loc[drug_df[drug_df['meth_frequency']=='-'].index, 'meth_frequency'] = 0.0\n",
    "drug_df['meth_frequency'] = drug_df['meth_frequency'].astype(float)\n",
    "drug_df.meth_frequency.unique"
   ]
  },
  {
   "cell_type": "code",
   "execution_count": 58,
   "metadata": {},
   "outputs": [
    {
     "data": {
      "text/plain": [
       "age                         object\n",
       "n                            int64\n",
       "alcohol_use                float64\n",
       "alcohol_frequency          float64\n",
       "marijuana_use              float64\n",
       "marijuana_frequency        float64\n",
       "cocaine_use                float64\n",
       "cocaine_frequency          float64\n",
       "crack_use                  float64\n",
       "crack_frequency            float64\n",
       "heroin_use                 float64\n",
       "heroin_frequency           float64\n",
       "hallucinogen_use           float64\n",
       "hallucinogen_frequency     float64\n",
       "inhalant_use               float64\n",
       "inhalant_frequency         float64\n",
       "pain_releiver_use          float64\n",
       "pain_releiver_frequency    float64\n",
       "oxycontin_use              float64\n",
       "oxycontin_frequency        float64\n",
       "tranquilizer_use           float64\n",
       "tranquilizer_frequency     float64\n",
       "stimulant_use              float64\n",
       "stimulant_frequency        float64\n",
       "meth_use                   float64\n",
       "meth_frequency             float64\n",
       "sedative_use               float64\n",
       "sedative_frequency         float64\n",
       "dtype: object"
      ]
     },
     "execution_count": 58,
     "metadata": {},
     "output_type": "execute_result"
    }
   ],
   "source": [
    "#Successfully change objects to floats\n",
    "drug_df.dtypes"
   ]
  },
  {
   "cell_type": "code",
   "execution_count": 59,
   "metadata": {},
   "outputs": [
    {
     "data": {
      "text/plain": [
       "array(['12', '13', '14', '15', '16', '17', '18', '19', '20', '21',\n",
       "       '22-23', '24-25', '26-29', '30-34', '35-49', '50-64', '65+'],\n",
       "      dtype=object)"
      ]
     },
     "execution_count": 59,
     "metadata": {},
     "output_type": "execute_result"
    }
   ],
   "source": [
    "drug_df.age.unique()"
   ]
  },
  {
   "cell_type": "markdown",
   "metadata": {},
   "source": [
    "### 7.2 Do a high-level, initial overview of the data\n",
    "\n",
    "Get a feel for what this dataset is all about.\n",
    "\n",
    "Use whichever techniques you'd like, including those from the SAT dataset EDA. The final response to this question should be a written description of what you infer about the dataset.\n",
    "\n",
    "Some things to consider doing:\n",
    "\n",
    "- Look for relationships between variables and subsets of those variables' values\n",
    "- Derive new features from the ones available to help your analysis\n",
    "- Visualize everything!"
   ]
  },
  {
   "cell_type": "code",
   "execution_count": 60,
   "metadata": {},
   "outputs": [
    {
     "data": {
      "text/plain": [
       "(17, 28)"
      ]
     },
     "execution_count": 60,
     "metadata": {},
     "output_type": "execute_result"
    }
   ],
   "source": [
    "# Looking at the shape of the data\n",
    "drug_df.shape"
   ]
  },
  {
   "cell_type": "code",
   "execution_count": 61,
   "metadata": {},
   "outputs": [
    {
     "data": {
      "text/html": [
       "<div>\n",
       "<style scoped>\n",
       "    .dataframe tbody tr th:only-of-type {\n",
       "        vertical-align: middle;\n",
       "    }\n",
       "\n",
       "    .dataframe tbody tr th {\n",
       "        vertical-align: top;\n",
       "    }\n",
       "\n",
       "    .dataframe thead th {\n",
       "        text-align: right;\n",
       "    }\n",
       "</style>\n",
       "<table border=\"1\" class=\"dataframe\">\n",
       "  <thead>\n",
       "    <tr style=\"text-align: right;\">\n",
       "      <th></th>\n",
       "      <th>n</th>\n",
       "      <th>alcohol_use</th>\n",
       "      <th>alcohol_frequency</th>\n",
       "      <th>marijuana_use</th>\n",
       "      <th>marijuana_frequency</th>\n",
       "      <th>cocaine_use</th>\n",
       "      <th>cocaine_frequency</th>\n",
       "      <th>crack_use</th>\n",
       "      <th>crack_frequency</th>\n",
       "      <th>heroin_use</th>\n",
       "      <th>...</th>\n",
       "      <th>oxycontin_use</th>\n",
       "      <th>oxycontin_frequency</th>\n",
       "      <th>tranquilizer_use</th>\n",
       "      <th>tranquilizer_frequency</th>\n",
       "      <th>stimulant_use</th>\n",
       "      <th>stimulant_frequency</th>\n",
       "      <th>meth_use</th>\n",
       "      <th>meth_frequency</th>\n",
       "      <th>sedative_use</th>\n",
       "      <th>sedative_frequency</th>\n",
       "    </tr>\n",
       "  </thead>\n",
       "  <tbody>\n",
       "    <tr>\n",
       "      <th>count</th>\n",
       "      <td>17.000000</td>\n",
       "      <td>17.000000</td>\n",
       "      <td>17.000000</td>\n",
       "      <td>17.000000</td>\n",
       "      <td>17.000000</td>\n",
       "      <td>17.000000</td>\n",
       "      <td>17.000000</td>\n",
       "      <td>17.000000</td>\n",
       "      <td>17.000000</td>\n",
       "      <td>17.000000</td>\n",
       "      <td>...</td>\n",
       "      <td>17.000000</td>\n",
       "      <td>17.000000</td>\n",
       "      <td>17.000000</td>\n",
       "      <td>17.000000</td>\n",
       "      <td>17.000000</td>\n",
       "      <td>17.000000</td>\n",
       "      <td>17.000000</td>\n",
       "      <td>17.000000</td>\n",
       "      <td>17.000000</td>\n",
       "      <td>17.000000</td>\n",
       "    </tr>\n",
       "    <tr>\n",
       "      <th>mean</th>\n",
       "      <td>3251.058824</td>\n",
       "      <td>55.429412</td>\n",
       "      <td>33.352941</td>\n",
       "      <td>18.923529</td>\n",
       "      <td>42.941176</td>\n",
       "      <td>2.176471</td>\n",
       "      <td>7.411765</td>\n",
       "      <td>0.294118</td>\n",
       "      <td>12.382353</td>\n",
       "      <td>0.352941</td>\n",
       "      <td>...</td>\n",
       "      <td>0.935294</td>\n",
       "      <td>13.941176</td>\n",
       "      <td>2.805882</td>\n",
       "      <td>11.735294</td>\n",
       "      <td>1.917647</td>\n",
       "      <td>31.147059</td>\n",
       "      <td>0.382353</td>\n",
       "      <td>31.735294</td>\n",
       "      <td>0.282353</td>\n",
       "      <td>19.382353</td>\n",
       "    </tr>\n",
       "    <tr>\n",
       "      <th>std</th>\n",
       "      <td>1297.890426</td>\n",
       "      <td>26.878866</td>\n",
       "      <td>21.318833</td>\n",
       "      <td>11.959752</td>\n",
       "      <td>18.362566</td>\n",
       "      <td>1.816772</td>\n",
       "      <td>8.014119</td>\n",
       "      <td>0.235772</td>\n",
       "      <td>17.361532</td>\n",
       "      <td>0.333762</td>\n",
       "      <td>...</td>\n",
       "      <td>0.608216</td>\n",
       "      <td>12.902134</td>\n",
       "      <td>1.753379</td>\n",
       "      <td>11.485205</td>\n",
       "      <td>1.407673</td>\n",
       "      <td>85.973790</td>\n",
       "      <td>0.262762</td>\n",
       "      <td>32.206423</td>\n",
       "      <td>0.138000</td>\n",
       "      <td>24.833527</td>\n",
       "    </tr>\n",
       "    <tr>\n",
       "      <th>min</th>\n",
       "      <td>2223.000000</td>\n",
       "      <td>3.900000</td>\n",
       "      <td>3.000000</td>\n",
       "      <td>1.100000</td>\n",
       "      <td>4.000000</td>\n",
       "      <td>0.000000</td>\n",
       "      <td>0.000000</td>\n",
       "      <td>0.000000</td>\n",
       "      <td>0.000000</td>\n",
       "      <td>0.000000</td>\n",
       "      <td>...</td>\n",
       "      <td>0.000000</td>\n",
       "      <td>0.000000</td>\n",
       "      <td>0.200000</td>\n",
       "      <td>4.500000</td>\n",
       "      <td>0.000000</td>\n",
       "      <td>2.000000</td>\n",
       "      <td>0.000000</td>\n",
       "      <td>0.000000</td>\n",
       "      <td>0.000000</td>\n",
       "      <td>3.000000</td>\n",
       "    </tr>\n",
       "    <tr>\n",
       "      <th>25%</th>\n",
       "      <td>2469.000000</td>\n",
       "      <td>40.100000</td>\n",
       "      <td>10.000000</td>\n",
       "      <td>8.700000</td>\n",
       "      <td>30.000000</td>\n",
       "      <td>0.500000</td>\n",
       "      <td>5.000000</td>\n",
       "      <td>0.000000</td>\n",
       "      <td>2.000000</td>\n",
       "      <td>0.100000</td>\n",
       "      <td>...</td>\n",
       "      <td>0.400000</td>\n",
       "      <td>5.000000</td>\n",
       "      <td>1.400000</td>\n",
       "      <td>6.000000</td>\n",
       "      <td>0.600000</td>\n",
       "      <td>7.000000</td>\n",
       "      <td>0.200000</td>\n",
       "      <td>10.500000</td>\n",
       "      <td>0.200000</td>\n",
       "      <td>6.500000</td>\n",
       "    </tr>\n",
       "    <tr>\n",
       "      <th>50%</th>\n",
       "      <td>2798.000000</td>\n",
       "      <td>64.600000</td>\n",
       "      <td>48.000000</td>\n",
       "      <td>20.800000</td>\n",
       "      <td>52.000000</td>\n",
       "      <td>2.000000</td>\n",
       "      <td>5.000000</td>\n",
       "      <td>0.400000</td>\n",
       "      <td>6.000000</td>\n",
       "      <td>0.200000</td>\n",
       "      <td>...</td>\n",
       "      <td>1.100000</td>\n",
       "      <td>12.000000</td>\n",
       "      <td>3.500000</td>\n",
       "      <td>10.000000</td>\n",
       "      <td>1.800000</td>\n",
       "      <td>10.000000</td>\n",
       "      <td>0.400000</td>\n",
       "      <td>24.000000</td>\n",
       "      <td>0.300000</td>\n",
       "      <td>10.000000</td>\n",
       "    </tr>\n",
       "    <tr>\n",
       "      <th>75%</th>\n",
       "      <td>3058.000000</td>\n",
       "      <td>77.500000</td>\n",
       "      <td>52.000000</td>\n",
       "      <td>28.400000</td>\n",
       "      <td>52.000000</td>\n",
       "      <td>4.000000</td>\n",
       "      <td>7.000000</td>\n",
       "      <td>0.500000</td>\n",
       "      <td>15.000000</td>\n",
       "      <td>0.600000</td>\n",
       "      <td>...</td>\n",
       "      <td>1.400000</td>\n",
       "      <td>17.500000</td>\n",
       "      <td>4.200000</td>\n",
       "      <td>11.000000</td>\n",
       "      <td>3.000000</td>\n",
       "      <td>12.000000</td>\n",
       "      <td>0.600000</td>\n",
       "      <td>46.000000</td>\n",
       "      <td>0.400000</td>\n",
       "      <td>17.500000</td>\n",
       "    </tr>\n",
       "    <tr>\n",
       "      <th>max</th>\n",
       "      <td>7391.000000</td>\n",
       "      <td>84.200000</td>\n",
       "      <td>52.000000</td>\n",
       "      <td>34.000000</td>\n",
       "      <td>72.000000</td>\n",
       "      <td>4.900000</td>\n",
       "      <td>36.000000</td>\n",
       "      <td>0.600000</td>\n",
       "      <td>62.000000</td>\n",
       "      <td>1.100000</td>\n",
       "      <td>...</td>\n",
       "      <td>1.700000</td>\n",
       "      <td>46.000000</td>\n",
       "      <td>5.400000</td>\n",
       "      <td>52.000000</td>\n",
       "      <td>4.100000</td>\n",
       "      <td>364.000000</td>\n",
       "      <td>0.900000</td>\n",
       "      <td>105.000000</td>\n",
       "      <td>0.500000</td>\n",
       "      <td>104.000000</td>\n",
       "    </tr>\n",
       "  </tbody>\n",
       "</table>\n",
       "<p>8 rows × 27 columns</p>\n",
       "</div>"
      ],
      "text/plain": [
       "                 n  alcohol_use  alcohol_frequency  marijuana_use  \\\n",
       "count    17.000000    17.000000          17.000000      17.000000   \n",
       "mean   3251.058824    55.429412          33.352941      18.923529   \n",
       "std    1297.890426    26.878866          21.318833      11.959752   \n",
       "min    2223.000000     3.900000           3.000000       1.100000   \n",
       "25%    2469.000000    40.100000          10.000000       8.700000   \n",
       "50%    2798.000000    64.600000          48.000000      20.800000   \n",
       "75%    3058.000000    77.500000          52.000000      28.400000   \n",
       "max    7391.000000    84.200000          52.000000      34.000000   \n",
       "\n",
       "       marijuana_frequency  cocaine_use  cocaine_frequency  crack_use  \\\n",
       "count            17.000000    17.000000          17.000000  17.000000   \n",
       "mean             42.941176     2.176471           7.411765   0.294118   \n",
       "std              18.362566     1.816772           8.014119   0.235772   \n",
       "min               4.000000     0.000000           0.000000   0.000000   \n",
       "25%              30.000000     0.500000           5.000000   0.000000   \n",
       "50%              52.000000     2.000000           5.000000   0.400000   \n",
       "75%              52.000000     4.000000           7.000000   0.500000   \n",
       "max              72.000000     4.900000          36.000000   0.600000   \n",
       "\n",
       "       crack_frequency  heroin_use         ...          oxycontin_use  \\\n",
       "count        17.000000   17.000000         ...              17.000000   \n",
       "mean         12.382353    0.352941         ...               0.935294   \n",
       "std          17.361532    0.333762         ...               0.608216   \n",
       "min           0.000000    0.000000         ...               0.000000   \n",
       "25%           2.000000    0.100000         ...               0.400000   \n",
       "50%           6.000000    0.200000         ...               1.100000   \n",
       "75%          15.000000    0.600000         ...               1.400000   \n",
       "max          62.000000    1.100000         ...               1.700000   \n",
       "\n",
       "       oxycontin_frequency  tranquilizer_use  tranquilizer_frequency  \\\n",
       "count            17.000000         17.000000               17.000000   \n",
       "mean             13.941176          2.805882               11.735294   \n",
       "std              12.902134          1.753379               11.485205   \n",
       "min               0.000000          0.200000                4.500000   \n",
       "25%               5.000000          1.400000                6.000000   \n",
       "50%              12.000000          3.500000               10.000000   \n",
       "75%              17.500000          4.200000               11.000000   \n",
       "max              46.000000          5.400000               52.000000   \n",
       "\n",
       "       stimulant_use  stimulant_frequency   meth_use  meth_frequency  \\\n",
       "count      17.000000            17.000000  17.000000       17.000000   \n",
       "mean        1.917647            31.147059   0.382353       31.735294   \n",
       "std         1.407673            85.973790   0.262762       32.206423   \n",
       "min         0.000000             2.000000   0.000000        0.000000   \n",
       "25%         0.600000             7.000000   0.200000       10.500000   \n",
       "50%         1.800000            10.000000   0.400000       24.000000   \n",
       "75%         3.000000            12.000000   0.600000       46.000000   \n",
       "max         4.100000           364.000000   0.900000      105.000000   \n",
       "\n",
       "       sedative_use  sedative_frequency  \n",
       "count     17.000000           17.000000  \n",
       "mean       0.282353           19.382353  \n",
       "std        0.138000           24.833527  \n",
       "min        0.000000            3.000000  \n",
       "25%        0.200000            6.500000  \n",
       "50%        0.300000           10.000000  \n",
       "75%        0.400000           17.500000  \n",
       "max        0.500000          104.000000  \n",
       "\n",
       "[8 rows x 27 columns]"
      ]
     },
     "execution_count": 61,
     "metadata": {},
     "output_type": "execute_result"
    }
   ],
   "source": [
    "# Looking at the descriptive statistics summary\n",
    "drug_df.describe()"
   ]
  },
  {
   "cell_type": "code",
   "execution_count": 62,
   "metadata": {},
   "outputs": [
    {
     "name": "stdout",
     "output_type": "stream",
     "text": [
      "<class 'pandas.core.frame.DataFrame'>\n",
      "RangeIndex: 17 entries, 0 to 16\n",
      "Data columns (total 28 columns):\n",
      "age                        17 non-null object\n",
      "n                          17 non-null int64\n",
      "alcohol_use                17 non-null float64\n",
      "alcohol_frequency          17 non-null float64\n",
      "marijuana_use              17 non-null float64\n",
      "marijuana_frequency        17 non-null float64\n",
      "cocaine_use                17 non-null float64\n",
      "cocaine_frequency          17 non-null float64\n",
      "crack_use                  17 non-null float64\n",
      "crack_frequency            17 non-null float64\n",
      "heroin_use                 17 non-null float64\n",
      "heroin_frequency           17 non-null float64\n",
      "hallucinogen_use           17 non-null float64\n",
      "hallucinogen_frequency     17 non-null float64\n",
      "inhalant_use               17 non-null float64\n",
      "inhalant_frequency         17 non-null float64\n",
      "pain_releiver_use          17 non-null float64\n",
      "pain_releiver_frequency    17 non-null float64\n",
      "oxycontin_use              17 non-null float64\n",
      "oxycontin_frequency        17 non-null float64\n",
      "tranquilizer_use           17 non-null float64\n",
      "tranquilizer_frequency     17 non-null float64\n",
      "stimulant_use              17 non-null float64\n",
      "stimulant_frequency        17 non-null float64\n",
      "meth_use                   17 non-null float64\n",
      "meth_frequency             17 non-null float64\n",
      "sedative_use               17 non-null float64\n",
      "sedative_frequency         17 non-null float64\n",
      "dtypes: float64(26), int64(1), object(1)\n",
      "memory usage: 3.8+ KB\n"
     ]
    }
   ],
   "source": [
    "drug_df.info()"
   ]
  },
  {
   "cell_type": "code",
   "execution_count": 63,
   "metadata": {},
   "outputs": [
    {
     "data": {
      "text/html": [
       "<div>\n",
       "<style scoped>\n",
       "    .dataframe tbody tr th:only-of-type {\n",
       "        vertical-align: middle;\n",
       "    }\n",
       "\n",
       "    .dataframe tbody tr th {\n",
       "        vertical-align: top;\n",
       "    }\n",
       "\n",
       "    .dataframe thead th {\n",
       "        text-align: right;\n",
       "    }\n",
       "</style>\n",
       "<table border=\"1\" class=\"dataframe\">\n",
       "  <thead>\n",
       "    <tr style=\"text-align: right;\">\n",
       "      <th></th>\n",
       "      <th>n</th>\n",
       "      <th>alcohol_use</th>\n",
       "      <th>alcohol_frequency</th>\n",
       "      <th>marijuana_use</th>\n",
       "      <th>marijuana_frequency</th>\n",
       "      <th>cocaine_use</th>\n",
       "      <th>cocaine_frequency</th>\n",
       "      <th>crack_use</th>\n",
       "      <th>crack_frequency</th>\n",
       "      <th>heroin_use</th>\n",
       "      <th>...</th>\n",
       "      <th>oxycontin_use</th>\n",
       "      <th>oxycontin_frequency</th>\n",
       "      <th>tranquilizer_use</th>\n",
       "      <th>tranquilizer_frequency</th>\n",
       "      <th>stimulant_use</th>\n",
       "      <th>stimulant_frequency</th>\n",
       "      <th>meth_use</th>\n",
       "      <th>meth_frequency</th>\n",
       "      <th>sedative_use</th>\n",
       "      <th>sedative_frequency</th>\n",
       "    </tr>\n",
       "    <tr>\n",
       "      <th>age</th>\n",
       "      <th></th>\n",
       "      <th></th>\n",
       "      <th></th>\n",
       "      <th></th>\n",
       "      <th></th>\n",
       "      <th></th>\n",
       "      <th></th>\n",
       "      <th></th>\n",
       "      <th></th>\n",
       "      <th></th>\n",
       "      <th></th>\n",
       "      <th></th>\n",
       "      <th></th>\n",
       "      <th></th>\n",
       "      <th></th>\n",
       "      <th></th>\n",
       "      <th></th>\n",
       "      <th></th>\n",
       "      <th></th>\n",
       "      <th></th>\n",
       "      <th></th>\n",
       "    </tr>\n",
       "  </thead>\n",
       "  <tbody>\n",
       "    <tr>\n",
       "      <th>12</th>\n",
       "      <td>2798</td>\n",
       "      <td>3.9</td>\n",
       "      <td>3.0</td>\n",
       "      <td>1.1</td>\n",
       "      <td>4.0</td>\n",
       "      <td>0.1</td>\n",
       "      <td>5.0</td>\n",
       "      <td>0.0</td>\n",
       "      <td>0.0</td>\n",
       "      <td>0.1</td>\n",
       "      <td>...</td>\n",
       "      <td>0.1</td>\n",
       "      <td>24.5</td>\n",
       "      <td>0.2</td>\n",
       "      <td>52.0</td>\n",
       "      <td>0.2</td>\n",
       "      <td>2.0</td>\n",
       "      <td>0.0</td>\n",
       "      <td>0.0</td>\n",
       "      <td>0.2</td>\n",
       "      <td>13.0</td>\n",
       "    </tr>\n",
       "    <tr>\n",
       "      <th>13</th>\n",
       "      <td>2757</td>\n",
       "      <td>8.5</td>\n",
       "      <td>6.0</td>\n",
       "      <td>3.4</td>\n",
       "      <td>15.0</td>\n",
       "      <td>0.1</td>\n",
       "      <td>1.0</td>\n",
       "      <td>0.0</td>\n",
       "      <td>3.0</td>\n",
       "      <td>0.0</td>\n",
       "      <td>...</td>\n",
       "      <td>0.1</td>\n",
       "      <td>41.0</td>\n",
       "      <td>0.3</td>\n",
       "      <td>25.5</td>\n",
       "      <td>0.3</td>\n",
       "      <td>4.0</td>\n",
       "      <td>0.1</td>\n",
       "      <td>5.0</td>\n",
       "      <td>0.1</td>\n",
       "      <td>19.0</td>\n",
       "    </tr>\n",
       "    <tr>\n",
       "      <th>14</th>\n",
       "      <td>2792</td>\n",
       "      <td>18.1</td>\n",
       "      <td>5.0</td>\n",
       "      <td>8.7</td>\n",
       "      <td>24.0</td>\n",
       "      <td>0.1</td>\n",
       "      <td>5.5</td>\n",
       "      <td>0.0</td>\n",
       "      <td>0.0</td>\n",
       "      <td>0.1</td>\n",
       "      <td>...</td>\n",
       "      <td>0.4</td>\n",
       "      <td>4.5</td>\n",
       "      <td>0.9</td>\n",
       "      <td>5.0</td>\n",
       "      <td>0.8</td>\n",
       "      <td>12.0</td>\n",
       "      <td>0.1</td>\n",
       "      <td>24.0</td>\n",
       "      <td>0.2</td>\n",
       "      <td>16.5</td>\n",
       "    </tr>\n",
       "    <tr>\n",
       "      <th>15</th>\n",
       "      <td>2956</td>\n",
       "      <td>29.2</td>\n",
       "      <td>6.0</td>\n",
       "      <td>14.5</td>\n",
       "      <td>25.0</td>\n",
       "      <td>0.5</td>\n",
       "      <td>4.0</td>\n",
       "      <td>0.1</td>\n",
       "      <td>9.5</td>\n",
       "      <td>0.2</td>\n",
       "      <td>...</td>\n",
       "      <td>0.8</td>\n",
       "      <td>3.0</td>\n",
       "      <td>2.0</td>\n",
       "      <td>4.5</td>\n",
       "      <td>1.5</td>\n",
       "      <td>6.0</td>\n",
       "      <td>0.3</td>\n",
       "      <td>10.5</td>\n",
       "      <td>0.4</td>\n",
       "      <td>30.0</td>\n",
       "    </tr>\n",
       "    <tr>\n",
       "      <th>16</th>\n",
       "      <td>3058</td>\n",
       "      <td>40.1</td>\n",
       "      <td>10.0</td>\n",
       "      <td>22.5</td>\n",
       "      <td>30.0</td>\n",
       "      <td>1.0</td>\n",
       "      <td>7.0</td>\n",
       "      <td>0.0</td>\n",
       "      <td>1.0</td>\n",
       "      <td>0.1</td>\n",
       "      <td>...</td>\n",
       "      <td>1.1</td>\n",
       "      <td>4.0</td>\n",
       "      <td>2.4</td>\n",
       "      <td>11.0</td>\n",
       "      <td>1.8</td>\n",
       "      <td>9.5</td>\n",
       "      <td>0.3</td>\n",
       "      <td>36.0</td>\n",
       "      <td>0.2</td>\n",
       "      <td>3.0</td>\n",
       "    </tr>\n",
       "  </tbody>\n",
       "</table>\n",
       "<p>5 rows × 27 columns</p>\n",
       "</div>"
      ],
      "text/plain": [
       "        n  alcohol_use  alcohol_frequency  marijuana_use  marijuana_frequency  \\\n",
       "age                                                                             \n",
       "12   2798          3.9                3.0            1.1                  4.0   \n",
       "13   2757          8.5                6.0            3.4                 15.0   \n",
       "14   2792         18.1                5.0            8.7                 24.0   \n",
       "15   2956         29.2                6.0           14.5                 25.0   \n",
       "16   3058         40.1               10.0           22.5                 30.0   \n",
       "\n",
       "     cocaine_use  cocaine_frequency  crack_use  crack_frequency  heroin_use  \\\n",
       "age                                                                           \n",
       "12           0.1                5.0        0.0              0.0         0.1   \n",
       "13           0.1                1.0        0.0              3.0         0.0   \n",
       "14           0.1                5.5        0.0              0.0         0.1   \n",
       "15           0.5                4.0        0.1              9.5         0.2   \n",
       "16           1.0                7.0        0.0              1.0         0.1   \n",
       "\n",
       "            ...          oxycontin_use  oxycontin_frequency  tranquilizer_use  \\\n",
       "age         ...                                                                 \n",
       "12          ...                    0.1                 24.5               0.2   \n",
       "13          ...                    0.1                 41.0               0.3   \n",
       "14          ...                    0.4                  4.5               0.9   \n",
       "15          ...                    0.8                  3.0               2.0   \n",
       "16          ...                    1.1                  4.0               2.4   \n",
       "\n",
       "     tranquilizer_frequency  stimulant_use  stimulant_frequency  meth_use  \\\n",
       "age                                                                         \n",
       "12                     52.0            0.2                  2.0       0.0   \n",
       "13                     25.5            0.3                  4.0       0.1   \n",
       "14                      5.0            0.8                 12.0       0.1   \n",
       "15                      4.5            1.5                  6.0       0.3   \n",
       "16                     11.0            1.8                  9.5       0.3   \n",
       "\n",
       "     meth_frequency  sedative_use  sedative_frequency  \n",
       "age                                                    \n",
       "12              0.0           0.2                13.0  \n",
       "13              5.0           0.1                19.0  \n",
       "14             24.0           0.2                16.5  \n",
       "15             10.5           0.4                30.0  \n",
       "16             36.0           0.2                 3.0  \n",
       "\n",
       "[5 rows x 27 columns]"
      ]
     },
     "execution_count": 63,
     "metadata": {},
     "output_type": "execute_result"
    }
   ],
   "source": [
    "# looking at the index\n",
    "drug_df.set_index('age', inplace=True)\n",
    "drug_df.head()"
   ]
  },
  {
   "cell_type": "code",
   "execution_count": 64,
   "metadata": {},
   "outputs": [
    {
     "data": {
      "text/plain": [
       "<matplotlib.axes._subplots.AxesSubplot at 0x1a178c9690>"
      ]
     },
     "execution_count": 64,
     "metadata": {},
     "output_type": "execute_result"
    },
    {
     "data": {
      "image/png": "[encoded data removed]",
      "text/plain": [
       "<matplotlib.figure.Figure at 0x1130b1f10>"
      ]
     },
     "metadata": {
      "image/png": {
       "height": 633,
       "width": 719
      }
     },
     "output_type": "display_data"
    }
   ],
   "source": [
    "#Plotting a correlation map\n",
    "drug_corr = drug_df.corr()\n",
    "\n",
    "# Set up the matplotlib figure\n",
    "f, ax = plt.subplots(figsize=(11,9))\n",
    "\n",
    "# Generate a mask for the upper triangle\n",
    "mask = np.zeros_like(drug_corr, dtype=np.bool)\n",
    "mask[np.triu_indices_from(mask)] = True\n",
    "\n",
    "# Generate a custom diverging colormap\n",
    "cmap = sns.diverging_palette(220, 10, as_cmap=True)\n",
    "\n",
    "\n",
    "sns.heatmap(drug_corr, mask=mask, cmap=cmap, xticklabels=drug_corr.columns, yticklabels=drug_corr.columns)"
   ]
  },
  {
   "cell_type": "markdown",
   "metadata": {},
   "source": [
    "### 7.3 Create a testable hypothesis about this data\n",
    "\n",
    "Requirements for the question:\n",
    "\n",
    "1. Write a specific question you would like to answer with the data (that can be accomplished with EDA).\n",
    "2. Write a description of the \"deliverables\": what will you report after testing/examining your hypothesis?\n",
    "3. Use EDA techniques of your choice, numeric and/or visual, to look into your question.\n",
    "4. Write up your report on what you have found regarding the hypothesis about the data you came up with.\n",
    "\n",
    "\n",
    "Your hypothesis could be on:\n",
    "\n",
    "- Difference of group means\n",
    "- Correlations between variables\n",
    "- Anything else you think is interesting, testable, and meaningful!\n",
    "\n",
    "**Important notes:**\n",
    "\n",
    "You should be only doing EDA _relevant to your question_ here. It is easy to go down rabbit holes trying to look at every facet of your data, and so we want you to get in the practice of specifying a hypothesis you are interested in first and scoping your work to specifically answer that question.\n",
    "\n",
    "Some of you may want to jump ahead to \"modeling\" data to answer your question. This is a topic addressed in the next project and **you should not do this for this project.** We specifically want you to not do modeling to emphasize the importance of performing EDA _before_ you jump to statistical analysis."
   ]
  },
  {
   "cell_type": "markdown",
   "metadata": {
    "collapsed": true
   },
   "source": [
    "** Question and deliverables**\n",
    "\n",
    "\n",
    "..."
   ]
  },
  {
   "cell_type": "code",
   "execution_count": 65,
   "metadata": {},
   "outputs": [],
   "source": [
    "# 1. A SPECIFIC QUESTION I WOULD LIKE TO ASK:  \n",
    "# Is alcohol use evenly distributed among the age groups?"
   ]
  },
  {
   "cell_type": "code",
   "execution_count": 66,
   "metadata": {},
   "outputs": [
    {
     "data": {
      "text/plain": [
       "age\n",
       "22-23    84.2\n",
       "21       83.2\n",
       "24-25    83.1\n",
       "26-29    80.7\n",
       "30-34    77.5\n",
       "35-49    75.0\n",
       "20       69.7\n",
       "50-64    67.2\n",
       "19       64.6\n",
       "18       58.7\n",
       "17       49.3\n",
       "65+      49.3\n",
       "16       40.1\n",
       "15       29.2\n",
       "14       18.1\n",
       "13        8.5\n",
       "12        3.9\n",
       "Name: alcohol_use, dtype: float64"
      ]
     },
     "execution_count": 66,
     "metadata": {},
     "output_type": "execute_result"
    }
   ],
   "source": [
    "drug_df['alcohol_use'].sort_values(ascending=False)"
   ]
  },
  {
   "cell_type": "code",
   "execution_count": 67,
   "metadata": {},
   "outputs": [],
   "source": [
    "# EDA of my choice is visual histogram plot. \n",
    "# Age vs Alcohol_Use"
   ]
  },
  {
   "cell_type": "code",
   "execution_count": 68,
   "metadata": {},
   "outputs": [
    {
     "data": {
      "text/plain": [
       "<matplotlib.axes._subplots.AxesSubplot at 0x1127a1ad0>"
      ]
     },
     "execution_count": 68,
     "metadata": {},
     "output_type": "execute_result"
    },
    {
     "data": {
      "image/png": "[encoded data removed]",
      "text/plain": [
       "<matplotlib.figure.Figure at 0x1a147302d0>"
      ]
     },
     "metadata": {
      "image/png": {
       "height": 283,
       "width": 370
      }
     },
     "output_type": "display_data"
    }
   ],
   "source": [
    "drug_df['alcohol_use'].plot(kind='bar')"
   ]
  },
  {
   "cell_type": "code",
   "execution_count": 69,
   "metadata": {},
   "outputs": [],
   "source": [
    "# REPORT:\n",
    "# From the bar plot, we can quickly observed that young adults\n",
    "# have a higher alcohol use. \n",
    "# Therefore, alcohol_use is not evenly distributed.\n",
    "# The huge spike comes at 21 years of age, as this is the legal\n",
    "# drinking age in the United States. \n",
    "# We see the high alcohol_use is higher from 21 yo \n",
    "# to 49 yo.\n",
    "# This age group is also where people are earning an income, hence,\n",
    "# they probably have more money to spend on alcohol than people who\n",
    "# are not working or have retired. \n",
    "# This is what we believe so we set this as our Null Hypothesis."
   ]
  },
  {
   "cell_type": "code",
   "execution_count": 70,
   "metadata": {},
   "outputs": [],
   "source": [
    "# Null Hypothesis : We believe that high alcohol use is between 21yo to 49yo.\n",
    "# Alternative Hypothesis: The null hypothesis is false.\n",
    "\n",
    "# I use the t-test in this case. "
   ]
  },
  {
   "cell_type": "code",
   "execution_count": 71,
   "metadata": {},
   "outputs": [
    {
     "data": {
      "text/plain": [
       "<matplotlib.axes._subplots.AxesSubplot at 0x1136155d0>"
      ]
     },
     "execution_count": 71,
     "metadata": {},
     "output_type": "execute_result"
    },
    {
     "data": {
      "image/png": "[encoded data removed]",
      "text/plain": [
       "<matplotlib.figure.Figure at 0x11362d8d0>"
      ]
     },
     "metadata": {
      "image/png": {
       "height": 283,
       "width": 370
      }
     },
     "output_type": "display_data"
    }
   ],
   "source": [
    "#Plot the expected frequency of the alcohol use\n",
    "drug_df['alcohol_frequency'].plot(kind='bar')"
   ]
  },
  {
   "cell_type": "code",
   "execution_count": 72,
   "metadata": {},
   "outputs": [
    {
     "data": {
      "text/plain": [
       "22.076470588235296"
      ]
     },
     "execution_count": 72,
     "metadata": {},
     "output_type": "execute_result"
    }
   ],
   "source": [
    "#Calculate the mean difference between alcohol_use and alcohol_frequency\n",
    "mean_diff = drug_df.alcohol_use.mean() - drug_df.alcohol_frequency.mean()\n",
    "mean_diff"
   ]
  },
  {
   "cell_type": "code",
   "execution_count": 73,
   "metadata": {},
   "outputs": [
    {
     "name": "stdout",
     "output_type": "stream",
     "text": [
      "'t-statistic=2.65321305853, p-value=0.0123086088738'\n"
     ]
    }
   ],
   "source": [
    "#Calculating the T-Statisti\n",
    "t_stat, p_value = stats.ttest_ind(drug_df.alcohol_use, drug_df.alcohol_frequency)\n",
    "pprint('t-statistic={}, p-value={}'.format(t_stat, p_value))"
   ]
  },
  {
   "cell_type": "markdown",
   "metadata": {},
   "source": [
    "Since the p-value is less than 0.05 we REJECT the null hypothesis that high alcohol use is only between 21yo and 49 year old. "
   ]
  },
  {
   "cell_type": "code",
   "execution_count": 74,
   "metadata": {},
   "outputs": [
    {
     "data": {
      "image/png": "[encoded data removed]",
      "text/plain": [
       "<matplotlib.figure.Figure at 0x1135d0fd0>"
      ]
     },
     "metadata": {
      "image/png": {
       "height": 250,
       "width": 380
      }
     },
     "output_type": "display_data"
    }
   ],
   "source": [
    "#Visualizing the T-Statistic\n",
    "\n",
    "#Calculating the degree of freedom\n",
    "deg = len(drug_df.alcohol_use) + len(drug_df.alcohol_frequency) -2\n",
    "\n",
    "# Plot the t-statistic on the t-distribution.\n",
    "x = np.linspace(-5,5,100)\n",
    "y = stats.t.pdf(x, df=deg)\n",
    "\n",
    "plt.plot(x,y) # this is the distribution\n",
    "plt.axvline(t_stat, c='red', lw=2) #this is out t-statistics\n",
    "\n",
    "plt.show()"
   ]
  },
  {
   "cell_type": "code",
   "execution_count": 75,
   "metadata": {},
   "outputs": [
    {
     "data": {
      "text/plain": [
       "age\n",
       "12        3.9\n",
       "13        8.5\n",
       "14       18.1\n",
       "15       29.2\n",
       "16       40.1\n",
       "17       49.3\n",
       "18       58.7\n",
       "19       64.6\n",
       "20       69.7\n",
       "21       83.2\n",
       "22-23    84.2\n",
       "24-25    83.1\n",
       "26-29    80.7\n",
       "30-34    77.5\n",
       "35-49    75.0\n",
       "50-64    67.2\n",
       "65+      49.3\n",
       "Name: alcohol_use, dtype: float64"
      ]
     },
     "execution_count": 75,
     "metadata": {},
     "output_type": "execute_result"
    }
   ],
   "source": [
    "drug_df.alcohol_use"
   ]
  },
  {
   "cell_type": "code",
   "execution_count": 76,
   "metadata": {},
   "outputs": [
    {
     "data": {
      "text/plain": [
       "age\n",
       "12        3.0\n",
       "13        6.0\n",
       "14        5.0\n",
       "15        6.0\n",
       "16       10.0\n",
       "17       13.0\n",
       "18       24.0\n",
       "19       36.0\n",
       "20       48.0\n",
       "21       52.0\n",
       "22-23    52.0\n",
       "24-25    52.0\n",
       "26-29    52.0\n",
       "30-34    52.0\n",
       "35-49    52.0\n",
       "50-64    52.0\n",
       "65+      52.0\n",
       "Name: alcohol_frequency, dtype: float64"
      ]
     },
     "execution_count": 76,
     "metadata": {},
     "output_type": "execute_result"
    }
   ],
   "source": [
    "drug_df.alcohol_frequency"
   ]
  },
  {
   "cell_type": "markdown",
   "metadata": {},
   "source": [
    "There may be some incorrect data collection at age > 49 range which causes us to reject the null hypothesis."
   ]
  },
  {
   "cell_type": "markdown",
   "metadata": {},
   "source": [
    "<img src=\"http://imgur.com/xDpSobf.png\" style=\"float: left; margin: 25px 15px 0px 0px; height: 25px\">\n",
    "\n",
    "## 8. Introduction to dealing with outliers\n",
    "\n",
    "---\n",
    "\n",
    "Outliers are an interesting problem in statistics, in that there is not an agreed upon best way to define them. Subjectivity in selecting and analyzing data is a problem that will recur throughout the course.\n",
    "\n",
    "1. Pull out the rate variable from the sat dataset.\n",
    "2. Are there outliers in the dataset? Define, in words, how you _numerically define outliers._\n",
    "3. Print out the outliers in the dataset.\n",
    "4. Remove the outliers from the dataset.\n",
    "5. Compare the mean, median, and standard deviation of the \"cleaned\" data without outliers to the original. What is different about them and why?"
   ]
  },
  {
   "cell_type": "code",
   "execution_count": 90,
   "metadata": {},
   "outputs": [
    {
     "data": {
      "image/png": "[encoded data removed]",
      "text/plain": [
       "<matplotlib.figure.Figure at 0x1a16386c50>"
      ]
     },
     "metadata": {
      "image/png": {
       "height": 441,
       "width": 446
      }
     },
     "output_type": "display_data"
    }
   ],
   "source": [
    "# Rate variable from the SAT dataset\n",
    "\n",
    "fig = plt.figure(figsize=(7,7))\n",
    "ax = fig.gca()\n",
    "\n",
    "ax = sns.boxplot(df.Rate, orient='v',\n",
    "                fliersize=8, linewidth=1.5, notch=True,\n",
    "                saturation=0.5, ax=ax)\n",
    "\n",
    "ax.set_ylabel('Rate', fontsize=16)\n",
    "ax.set_title('Rate of SAT dataset\\n', fontsize=20)\n",
    "\n",
    "plt.show()"
   ]
  },
  {
   "cell_type": "markdown",
   "metadata": {},
   "source": [
    "From the above plot, the outliers could be in the upper end. "
   ]
  },
  {
   "cell_type": "code",
   "execution_count": 107,
   "metadata": {},
   "outputs": [],
   "source": [
    "rate = df.Rate.values"
   ]
  },
  {
   "cell_type": "markdown",
   "metadata": {},
   "source": [
    "Outliers are observations numerically distant from the rest of the data. When reviewing the boxplot, an outlier is defined as a data point that is located outside the whiskers of the boxplot. "
   ]
  },
  {
   "cell_type": "markdown",
   "metadata": {},
   "source": [
    " If a value is a certain number of standard deviations away from the mean, that data point is identified as an outlier. The specified number of standard deviations is called the threshold. The default value is 3.\n",
    "\n"
   ]
  },
  {
   "cell_type": "code",
   "execution_count": 108,
   "metadata": {},
   "outputs": [
    {
     "name": "stdout",
     "output_type": "stream",
     "text": [
      "3\n",
      "[82 81 79]\n"
     ]
    }
   ],
   "source": [
    "threshold = 3.0*np.std(rate)\n",
    "outlier_count = np.sum(np.abs(rate - rate_mean) >= strict_threshold)\n",
    "print outlier_count\n",
    "print rate[(np.abs(rate - rate_mean) >= strict_threshold)]"
   ]
  },
  {
   "cell_type": "markdown",
   "metadata": {},
   "source": [
    "There are no outliers based on the default 3.0 std as show in the code above and the plot below. Why is this so? A possible reason could be because the outliers increase the standard deviation. The more extreme the outlier, the more the standard deviation is affected."
   ]
  },
  {
   "cell_type": "code",
   "execution_count": 109,
   "metadata": {},
   "outputs": [
    {
     "data": {
      "image/png": "[encoded data removed]",
      "text/plain": [
       "<matplotlib.figure.Figure at 0x1a14758a10>"
      ]
     },
     "metadata": {
      "image/png": {
       "height": 320,
       "width": 533
      }
     },
     "output_type": "display_data"
    }
   ],
   "source": [
    "fig = plt.figure(figsize=(9,5))\n",
    "ax = fig.gca()\n",
    "\n",
    "ax = sns.distplot(rate, kde=False, bins=30, ax=ax)\n",
    "\n",
    "rate_mean = np.mean(rate)\n",
    "lower_bound = rate_mean - threshold\n",
    "upper_bound = rate_mean + threshold\n",
    "\n",
    "ax.axvline(lower_bound, linewidth=4, color='darkred', linestyle='dashed')\n",
    "ax.axvline(upper_bound, linewidth=4, color='darkred', linestyle='dashed')\n",
    "\n",
    "ax.set_title('Rate distribution with 3.0 std outlier window', fontsize=16)\n",
    "\n",
    "plt.show()"
   ]
  },
  {
   "cell_type": "markdown",
   "metadata": {},
   "source": [
    "I try to narrow the threshold to detect outliers. Working from 2.0, 1.75 to 1.5."
   ]
  },
  {
   "cell_type": "code",
   "execution_count": 110,
   "metadata": {},
   "outputs": [
    {
     "name": "stdout",
     "output_type": "stream",
     "text": [
      "3\n",
      "[82 81 79]\n"
     ]
    }
   ],
   "source": [
    "strict_threshold = 1.5*np.std(rate)\n",
    "outlier_count = np.sum(np.abs(rate - rate_mean) >= strict_threshold)\n",
    "print outlier_count\n",
    "print rate[(np.abs(rate - rate_mean) >= strict_threshold)]"
   ]
  },
  {
   "cell_type": "markdown",
   "metadata": {},
   "source": [
    "Surely, as I guessed in the beginning, the outliers are in the upper end. "
   ]
  },
  {
   "cell_type": "code",
   "execution_count": 113,
   "metadata": {},
   "outputs": [
    {
     "data": {
      "image/png": "[encoded data removed]",
      "text/plain": [
       "<matplotlib.figure.Figure at 0x1a14670c90>"
      ]
     },
     "metadata": {
      "image/png": {
       "height": 320,
       "width": 531
      }
     },
     "output_type": "display_data"
    }
   ],
   "source": [
    "fig = plt.figure(figsize=(9,5))\n",
    "ax = fig.gca()\n",
    "\n",
    "no_outliers = rate[(np.abs(rate - rate_mean) < strict_threshold)]\n",
    "original = rate[(np.abs(rate - rate_mean) >= strict_threshold)]\n",
    "\n",
    "ax = sns.distplot(no_outliers, kde=False, \n",
    "                  bins=len(no_outliers), ax=ax)\n",
    "\n",
    "ax = sns.distplot(original, kde=False, \n",
    "                  bins=len(original), ax=ax, color='darkred')\n",
    "\n",
    "rate_mean = np.mean(rate)\n",
    "lower_bound = rate_mean - strict_threshold\n",
    "upper_bound = rate_mean + strict_threshold\n",
    "\n",
    "ax.axvline(lower_bound, linewidth=4, color='darkred', linestyle='dashed')\n",
    "ax.axvline(upper_bound, linewidth=4, color='darkred', linestyle='dashed')\n",
    "\n",
    "ax.set_title('Rate distribution with 1.25 std outlier window', fontsize=16)\n",
    "\n",
    "plt.show()"
   ]
  },
  {
   "cell_type": "code",
   "execution_count": 114,
   "metadata": {},
   "outputs": [
    {
     "name": "stdout",
     "output_type": "stream",
     "text": [
      "Original mean, median, std: [37.0, 33.0, 27.27923867605359]\n",
      "Bounded mean, median, std: [34.270833333333336, 28.5, 25.767178398864104]\n"
     ]
    }
   ],
   "source": [
    "print 'Original mean, median, std:', [np.mean(rate), np.median(rate), np.std(rate)]\n",
    "print 'Bounded mean, median, std:', [np.mean(no_outliers), np.median(no_outliers), np.std(no_outliers)]\n",
    "\n"
   ]
  },
  {
   "cell_type": "markdown",
   "metadata": {},
   "source": [
    "When Outliers are removed, the result is a reduced the mean, median, and standard deviation. "
   ]
  },
  {
   "cell_type": "markdown",
   "metadata": {},
   "source": [
    "<img src=\"http://imgur.com/GCAf1UX.png\" style=\"float: left; margin: 25px 15px 0px 0px; height: 25px\">\n",
    "\n",
    "### 9. Percentile scoring and spearman rank correlation\n",
    "\n",
    "---\n",
    "\n",
    "### 9.1 Calculate the spearman correlation of sat `Verbal` and `Math`\n",
    "\n",
    "1. How does the spearman correlation compare to the pearson correlation? \n",
    "2. Describe clearly in words the process of calculating the spearman rank correlation.\n",
    "  - Hint: the word \"rank\" is in the name of the process for a reason!\n"
   ]
  },
  {
   "cell_type": "code",
   "execution_count": 78,
   "metadata": {},
   "outputs": [
    {
     "data": {
      "text/plain": [
       "0.9094125143903472"
      ]
     },
     "execution_count": 78,
     "metadata": {},
     "output_type": "execute_result"
    }
   ],
   "source": [
    "stats.spearmanr(df.Verbal, df.Math)[0]"
   ]
  },
  {
   "cell_type": "markdown",
   "metadata": {},
   "source": [
    "#### STEP 1) Calculate the rank of Verbal's \n",
    "#### STEP 2) Calculate the rank of Math's\n",
    "#### STEP 3) Then calculate the Pearson's correlation coefficient on the ranked Verbal and ranked Math."
   ]
  },
  {
   "cell_type": "markdown",
   "metadata": {},
   "source": [
    "### 9.2 Percentile scoring\n",
    "\n",
    "Look up percentile scoring of data. In other words, the conversion of numeric data to their equivalent percentile scores.\n",
    "\n",
    "http://docs.scipy.org/doc/numpy-dev/reference/generated/numpy.percentile.html\n",
    "\n",
    "http://docs.scipy.org/doc/scipy/reference/generated/scipy.stats.percentileofscore.html\n",
    "\n",
    "1. Convert `Rate` to percentiles in the sat scores as a new column.\n",
    "2. Show the percentile of California in `Rate`.\n",
    "3. How is percentile related to the spearman rank correlation?"
   ]
  },
  {
   "cell_type": "code",
   "execution_count": 79,
   "metadata": {},
   "outputs": [
    {
     "name": "stderr",
     "output_type": "stream",
     "text": [
      "/Users/matt_dynasty/anaconda2/lib/python2.7/site-packages/ipykernel_launcher.py:2: SettingWithCopyWarning: \n",
      "A value is trying to be set on a copy of a slice from a DataFrame.\n",
      "Try using .loc[row_indexer,col_indexer] = value instead\n",
      "\n",
      "See the caveats in the documentation: http://pandas.pydata.org/pandas-docs/stable/indexing.html#indexing-view-versus-copy\n",
      "  \n"
     ]
    }
   ],
   "source": [
    "# 1. Convert Rate to percentiles in the sat scores as a new column.\n",
    "df['Rate_Percentile'] = [ round(np.percentile(df.Rate, i)) for i in df.Rate ]\n"
   ]
  },
  {
   "cell_type": "code",
   "execution_count": 80,
   "metadata": {},
   "outputs": [
    {
     "data": {
      "text/plain": [
       "23    34.0\n",
       "Name: Rate_Percentile, dtype: float64"
      ]
     },
     "execution_count": 80,
     "metadata": {},
     "output_type": "execute_result"
    }
   ],
   "source": [
    "# 2.Show the percentile of California in Rate.\n",
    "df.loc[ (df.State == 'CA') , 'Rate_Percentile']"
   ]
  },
  {
   "cell_type": "markdown",
   "metadata": {},
   "source": [
    "3.\n",
    "Percentile is basically measuring according to rank which Spearman\n",
    "also measures in a different way.  "
   ]
  },
  {
   "cell_type": "markdown",
   "metadata": {},
   "source": [
    "### 9.3 Percentiles and outliers\n",
    "\n",
    "1. Why might percentile scoring be useful for dealing with outliers?\n",
    "2. Plot the distribution of a variable of your choice from the drug use dataset.\n",
    "3. Plot the same variable but percentile scored.\n",
    "4. Describe the effect, visually, of coverting raw scores to percentile."
   ]
  },
  {
   "cell_type": "markdown",
   "metadata": {},
   "source": [
    "    1. Outliers are quickly evident when looking at the percentile."
   ]
  },
  {
   "cell_type": "code",
   "execution_count": 81,
   "metadata": {},
   "outputs": [
    {
     "data": {
      "text/plain": [
       "<matplotlib.axes._subplots.AxesSubplot at 0x1a1757ca10>"
      ]
     },
     "execution_count": 81,
     "metadata": {},
     "output_type": "execute_result"
    },
    {
     "data": {
      "image/png": "[encoded data removed]",
      "text/plain": [
       "<matplotlib.figure.Figure at 0x11218a390>"
      ]
     },
     "metadata": {
      "image/png": {
       "height": 283,
       "width": 370
      }
     },
     "output_type": "display_data"
    }
   ],
   "source": [
    "#2. plot 'alcohol_use'\n",
    "drug_df.alcohol_use.plot(kind='bar')"
   ]
  },
  {
   "cell_type": "code",
   "execution_count": 82,
   "metadata": {},
   "outputs": [
    {
     "data": {
      "text/plain": [
       "array([ 3.9,  8.5, 18.1, 29.2, 40.1, 49.3, 49.3, 58.7, 64.6, 67.2, 69.7,\n",
       "       75. , 77.5, 80.7, 83.1, 83.2, 84.2])"
      ]
     },
     "execution_count": 82,
     "metadata": {},
     "output_type": "execute_result"
    }
   ],
   "source": [
    "#3. Sort in ascending order to check for ranks\n",
    "sort_by_rank = np.sort(drug_df.alcohol_use)\n",
    "sort_by_rank"
   ]
  },
  {
   "cell_type": "code",
   "execution_count": 83,
   "metadata": {},
   "outputs": [],
   "source": [
    "from matplotlib import mlab\n",
    "pct = np.array([0.0, 25.0, 50.0, 75.0, 100.0])"
   ]
  },
  {
   "cell_type": "code",
   "execution_count": 84,
   "metadata": {},
   "outputs": [
    {
     "data": {
      "image/png": "[encoded data removed]",
      "text/plain": [
       "<matplotlib.figure.Figure at 0x113578b10>"
      ]
     },
     "metadata": {
      "image/png": {
       "height": 250,
       "width": 370
      }
     },
     "output_type": "display_data"
    }
   ],
   "source": [
    "#The blue dots shows the variable values\n",
    "plt.plot(sort_by_rank, marker='.', linestyle='none')\n",
    "perc = mlab.prctile(sort_by_rank, p=pct)\n",
    "\n",
    "#The red diamond shows the quantile\n",
    "plt.plot((len(sort_by_rank)-1) * pct/100., perc, 'ro', marker='D')\n",
    "plt.xticks((len(sort_by_rank)-1) * pct/100., map(str, pct))\n",
    "plt.show()\n"
   ]
  },
  {
   "cell_type": "markdown",
   "metadata": {},
   "source": [
    "I first sort the variable values according to rank. Then I assign a rank to them. Then I plot them according to their position in the quantile range. "
   ]
  },
  {
   "cell_type": "code",
   "execution_count": 88,
   "metadata": {},
   "outputs": [
    {
     "data": {
      "text/plain": [
       "age\n",
       "12        3.9\n",
       "13        8.5\n",
       "14       18.1\n",
       "15       29.2\n",
       "16       40.1\n",
       "17       49.3\n",
       "18       58.7\n",
       "19       64.6\n",
       "20       69.7\n",
       "21       83.2\n",
       "22-23    84.2\n",
       "24-25    83.1\n",
       "26-29    80.7\n",
       "30-34    77.5\n",
       "35-49    75.0\n",
       "50-64    67.2\n",
       "65+      49.3\n",
       "Name: alcohol_use, dtype: float64"
      ]
     },
     "execution_count": 88,
     "metadata": {},
     "output_type": "execute_result"
    }
   ],
   "source": [
    "drug_df.alcohol_use"
   ]
  },
  {
   "cell_type": "code",
   "execution_count": 89,
   "metadata": {},
   "outputs": [
    {
     "data": {
      "text/plain": [
       "942.3"
      ]
     },
     "execution_count": 89,
     "metadata": {},
     "output_type": "execute_result"
    }
   ],
   "source": [
    "sum(drug_df.alcohol_use)"
   ]
  },
  {
   "cell_type": "code",
   "execution_count": null,
   "metadata": {},
   "outputs": [],
   "source": []
  }
 ],
 "metadata": {
  "kernelspec": {
   "display_name": "Python 2",
   "language": "python",
   "name": "python2"
  },
  "language_info": {
   "codemirror_mode": {
    "name": "ipython",
    "version": 2
   },
   "file_extension": ".py",
   "mimetype": "text/x-python",
   "name": "python",
   "nbconvert_exporter": "python",
   "pygments_lexer": "ipython2",
   "version": "2.7.14"
  }
 },
 "nbformat": 4,
 "nbformat_minor": 1
}
